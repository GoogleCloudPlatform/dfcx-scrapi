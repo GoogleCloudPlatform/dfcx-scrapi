{
 "cells": [
  {
   "cell_type": "code",
   "execution_count": null,
   "metadata": {},
   "outputs": [],
   "source": [
    "# Copyright 2023 Google LLC\n",
    "#\n",
    "# Licensed under the Apache License, Version 2.0 (the \"License\");\n",
    "# you may not use this file except in compliance with the License.\n",
    "# You may obtain a copy of the License at\n",
    "#\n",
    "#     https://www.apache.org/licenses/LICENSE-2.0\n",
    "#\n",
    "# Unless required by applicable law or agreed to in writing, software\n",
    "# distributed under the License is distributed on an \"AS IS\" BASIS,\n",
    "# WITHOUT WARRANTIES OR CONDITIONS OF ANY KIND, either express or implied.\n",
    "# See the License for the specific language governing permissions and\n",
    "# limitations under the License."
   ]
  },
  {
   "cell_type": "markdown",
   "metadata": {},
   "source": [
    "# Introduction\n",
    "In this notebook, we will demonstrate how to copy and paste Page resources within the _SAME_ agent from a `Source` Flow to a `Target` Flow.\n",
    "\n",
    "These same methods/functions can be further modified to move pages _BETWEEN_ Agents as well!\n",
    "\n",
    "## Prerequisites\n",
    "- Ensure you have a GCP Service Account key with the Dialogflow API Admin privileges assigned to it."
   ]
  },
  {
   "cell_type": "code",
   "execution_count": null,
   "metadata": {},
   "outputs": [],
   "source": [
    "#If you haven't already, make sure you install the `dfcx-scrapi` library\n",
    "\n",
    "!pip install dfcx-scrapi"
   ]
  },
  {
   "cell_type": "markdown",
   "metadata": {},
   "source": [
    "# Imports\n"
   ]
  },
  {
   "cell_type": "code",
   "execution_count": null,
   "metadata": {},
   "outputs": [],
   "source": [
    "from dfcx_scrapi.tools.copy_util import CopyUtil"
   ]
  },
  {
   "cell_type": "markdown",
   "metadata": {},
   "source": [
    "# User Inputs\n",
    "In the next section, we will collect runtime variables needed to execute this notebook.   \n",
    "This should be the only cell of the notebook you need to edit in order for this notebook to run.\n",
    "\n",
    "For this notebook, we'll need the following inputs:\n",
    "\n",
    "- `creds_path`: Your local path to your GCP Service Account Credentials\n",
    "- `agent_id`: Your Dialogflow CX Agent ID in String format"
   ]
  },
  {
   "cell_type": "code",
   "execution_count": null,
   "metadata": {},
   "outputs": [],
   "source": [
    "creds_path = '<YOUR_CREDS_FILE>'\n",
    "agent_id = '<YOUR_AGENT_ID>'\n",
    "source_flow = 'Default Start Flow'\n",
    "target_flow = 'My Target Flow'"
   ]
  },
  {
   "cell_type": "markdown",
   "metadata": {},
   "source": [
    "# Get Flows Map from Agent\n",
    "First, we will extract a `map` of the Flow IDs and Flow Display Names from the Agent.   \n",
    "We pass `reverse=True` to the `get_flows_map` function which provides the Display Names as keys and the IDs as values.   \n",
    "This allows us to refernce the map using Display Names vs. the long, cumbersome ID names."
   ]
  },
  {
   "cell_type": "code",
   "execution_count": null,
   "metadata": {},
   "outputs": [],
   "source": [
    "cu = CopyUtil(creds_path)\n",
    "\n",
    "flows_map = cu.flows.get_flows_map(agent_id, reverse=True)"
   ]
  },
  {
   "cell_type": "markdown",
   "metadata": {},
   "source": [
    "# Get All Pages from Source Flow\n",
    "Once we have our `flows_map`, we will use it to extract all of the Page objects in our `Source` Flow.   \n",
    "In our case, we want to extract pages from the Flow named `Default Start Flow`.  \n",
    "We will call the `list_pages` function and pass in the appropriate dictionary reference."
   ]
  },
  {
   "cell_type": "code",
   "execution_count": 16,
   "metadata": {},
   "outputs": [
    {
     "name": "stdout",
     "output_type": "stream",
     "text": [
      "Default Start Flow Page Count = 3\n"
     ]
    }
   ],
   "source": [
    "my_pages = cu.pages.list_pages(flows_map[source_flow])\n",
    "print('{} Page Count = {}'.format(source_flow, len(my_pages)))"
   ]
  },
  {
   "cell_type": "markdown",
   "metadata": {},
   "source": [
    "# Extract Subset of Pages To Copy\n",
    "Now that we have `my_pages` (a List of Page objects) we need to extract the subset of pages that we plan on copying over to our `Target` Flow.   \n",
    "Usually you will do this using some regex matcher or pattern to select your pages.  \n",
    "The easiest way to do this is to ensure the the Page designer has prepended the `page.display_name` with a specific label.    \n",
    "The more unique the matching pattern, the better!\n",
    "\n",
    "Ex:\n",
    "- MyFlow - Page 1\n",
    "- MyFlow - Page 2\n",
    "- MyFlow - Page N"
   ]
  },
  {
   "cell_type": "code",
   "execution_count": 17,
   "metadata": {},
   "outputs": [
    {
     "name": "stdout",
     "output_type": "stream",
     "text": [
      "Total Pages to Copy = 2\n"
     ]
    }
   ],
   "source": [
    "subset_pages = [] # define a list placeholder for your Page proto objects\n",
    "for page in my_pages:\n",
    "    if 'MyFlow -' in page.display_name: # Comment out this line to copy the whole flow\n",
    "        subset_pages.append(page)\n",
    "\n",
    "print('Total Pages to Copy = {}'.format(len(subset_pages)))"
   ]
  },
  {
   "cell_type": "markdown",
   "metadata": {},
   "source": [
    "# Create Page Shells in Target Flow\n",
    "Using the `subset_pages` that we just collected, we will iterate through them and create a \"shell\" page in the `Target` flow.  \n",
    "This allows CX to assign a new UUID for the `Target` page which we will use to replace all references in the existing `subset_pages`\n",
    "\n",
    "Remember to pass in the `Target Flow ID` using the reverse flows map from above.\n",
    "\n",
    "**NOTE** - If you have a lot of pages, consider a `time.sleep(.5)` in your loop so as to not overrun your API limits!\n",
    "\n",
    "Note that this only needs to be run once. \n",
    "Once the empty pages have been created in a given flow, they cannot be created again.\n",
    "Trying to create them again will give an AlreadyExists error."
   ]
  },
  {
   "cell_type": "code",
   "execution_count": 18,
   "metadata": {},
   "outputs": [],
   "source": [
    "for page in subset_pages:\n",
    "    cu.pages.create_page(flows_map[target_flow], display_name=page.display_name)"
   ]
  },
  {
   "cell_type": "markdown",
   "metadata": {},
   "source": [
    "# Copy Route Groups to Target Flow"
   ]
  },
  {
   "cell_type": "code",
   "execution_count": null,
   "metadata": {},
   "outputs": [],
   "source": [
    "cu.copy_route_groups(agent_id, source_flow, target_flow)"
   ]
  },
  {
   "cell_type": "markdown",
   "metadata": {},
   "source": [
    "# Modify Page Objects\n",
    "In a previous step, we collected the `subset_pages` list of Page objects.  \n",
    "Now we will use a 2-step process comprised of the following ~!* MAGIC *!~ `CopyUtil` functions:\n",
    "1. `convert_from_source_page_dependencies`\n",
    "2. `convert_to_destination_page_dependencies`\n",
    "\n",
    "In Step #1, we will use the following args:\n",
    "- `agent_id`\n",
    "- `subset_pages` (i.e. the original List of Page Objects we collected)\n",
    "- `source_flow`\n",
    "\n",
    "This will modify all of the UUIDs in the Page objects to be _PLAIN TEXT STRING DISPLAY NAMES_ using internal map functions.  \n",
    "We will store the results in a variable called `subset_pages_prepped`\n",
    "\n",
    "In Step #2, we will use the following args:\n",
    "- `agent_id`\n",
    "- `subset_pages_prepped` (i.e. our _MODIFIED_ List of Page Objects we collected)\n",
    "- `target_flow`\n",
    "\n",
    "This will perform a reverse dictionary lookup on all of the previously modified resources using internal map functions and give them their newly assigned UUIDs.   \n",
    "We will store the results in a variable called `final_pages`"
   ]
  },
  {
   "cell_type": "code",
   "execution_count": 19,
   "metadata": {},
   "outputs": [],
   "source": [
    "# Step 1\n",
    "subset_pages_prepped = cu.convert_from_source_page_dependencies(agent_id, subset_pages, source_flow)\n",
    "\n",
    "# Step 2\n",
    "final_pages = cu.convert_to_destination_page_dependencies(agent_id, subset_pages_prepped, target_flow)"
   ]
  },
  {
   "cell_type": "markdown",
   "metadata": {
    "tags": []
   },
   "source": [
    "# Update Pages in Target Flow\n",
    "Our final step is to loop through our `final_pages` list and call the `update_page` function for each Page in the list.   \n",
    "This will write the modified Page objects to our Dialogflow CX Agent."
   ]
  },
  {
   "cell_type": "code",
   "execution_count": 20,
   "metadata": {},
   "outputs": [
    {
     "name": "stdout",
     "output_type": "stream",
     "text": [
      "Updated Page: MyFlow - Test2\n",
      "Updated Page: MyFlow - Test1\n"
     ]
    }
   ],
   "source": [
    "for page in final_pages:\n",
    "    cu.pages.update_page(page.name, page)\n",
    "    print('Updated Page: {}'.format(page.display_name))"
   ]
  },
  {
   "cell_type": "markdown",
   "metadata": {},
   "source": [
    "# Update Start Page in Target Flow\n",
    "\n",
    "Since the Start Page of a given flow is not a Page object in CX, but rather a Flow object, the above will not copy over the contents of the Start Page. If you are copying an entire flow into another flow, and need to copy the Start Page as well, the `convert_start_page_dependencies` function can be used to copy the Start Page contents."
   ]
  },
  {
   "cell_type": "code",
   "execution_count": null,
   "metadata": {},
   "outputs": [],
   "source": [
    "# Get the source and target flow objects\n",
    "source_flow_obj = cu.flows.get_flow_by_display_name(source_flow, agent_id)\n",
    "target_flow_obj = cu.flows.get_flow_by_display_name(target_flow, agent_id)\n",
    "\n",
    "# Convert resources of start page in source flow to update start page in target flow\n",
    "converted_source = cu.convert_start_page_dependencies(\n",
    "    agent_id, source_flow_obj, agent_type='source', flow=source_flow\n",
    ")\n",
    "converted_target = cu.convert_start_page_dependencies(\n",
    "    agent_id, converted_source, agent_type='destination', flow=target_flow\n",
    ")\n",
    "\n",
    "# Update start page in target flow\n",
    "cu.flows.update_flow(converted_target.name, converted_target)\n",
    "print('Updated Flow: {}'.format(target_flow))"
   ]
  },
  {
   "cell_type": "markdown",
   "metadata": {},
   "source": [
    "# Final Thoughts and Wrap-Up\n",
    "All of the above could be combined into a single function to streamline the process.  \n",
    "However, for instructional purposes, breaking the workflow up into parts allows the user to understand the context of each function and its core purpose.   \n",
    "\n",
    "In addition, other modifications not covered in this tutorial could be applied inline prior to pushing the Page updates in the final step.   \n",
    "As noted at the start, this notebook can also be modified to copy pages _BETWEEN_ agents as well."
   ]
  }
 ],
 "metadata": {
  "environment": {
   "kernel": "python3",
   "name": "common-cpu.m96",
   "type": "gcloud",
   "uri": "gcr.io/deeplearning-platform-release/base-cpu:m96"
  },
  "file_extension": ".py",
  "interpreter": {
   "hash": "19fe958eff886c70bc7b0837ba1e6b09536c8944c54196036e51b6ba767223fc"
  },
  "kernelspec": {
   "display_name": "Python 3",
   "language": "python",
   "name": "python3"
  },
  "language_info": {
   "codemirror_mode": {
    "name": "ipython",
    "version": 3
   },
   "file_extension": ".py",
   "mimetype": "text/x-python",
   "name": "python",
   "nbconvert_exporter": "python",
   "pygments_lexer": "ipython3",
   "version": "3.7.12"
  },
  "mimetype": "text/x-python",
  "name": "python",
  "npconvert_exporter": "python",
  "pygments_lexer": "ipython3",
  "version": 3
 },
 "nbformat": 4,
 "nbformat_minor": 4
}
