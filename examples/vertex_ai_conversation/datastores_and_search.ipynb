{
 "cells": [
  {
   "cell_type": "code",
   "execution_count": null,
   "metadata": {},
   "outputs": [],
   "source": [
    "# Copyright 2024 Google LLC\n",
    "#\n",
    "# Licensed under the Apache License, Version 2.0 (the \"License\");\n",
    "# you may not use this file except in compliance with the License.\n",
    "# You may obtain a copy of the License at\n",
    "#\n",
    "#     https://www.apache.org/licenses/LICENSE-2.0\n",
    "#\n",
    "# Unless required by applicable law or agreed to in writing, software\n",
    "# distributed under the License is distributed on an \"AS IS\" BASIS,\n",
    "# WITHOUT WARRANTIES OR CONDITIONS OF ANY KIND, either express or implied.\n",
    "# See the License for the specific language governing permissions and\n",
    "# limitations under the License."
   ]
  },
  {
   "cell_type": "markdown",
   "metadata": {},
   "source": [
    "# Vertex AI Search and Conversation - Creating and Querying Datastores\n",
    "In this notebook, we will show you how to:\n",
    "1. Build a new Vertex Search DataStore\n",
    "2. Add Site URIs to your DataStore\n",
    "3. Create a new Engine for Vertex Search\n",
    "4. Query your DataStore via the Search method.\n",
    "\n",
    "\n",
    "## Prerequisites\n",
    "- NOTE - For creating a new Engine, there is a hard requirement to use a Service Account Key.\n",
    "- For all other methods, local ADC auth creds will work just fine.\n",
    "\n",
    "<table align=\"left\">\n",
    "  <td style=\"text-align: center\">\n",
    "    <a href=\"https://colab.research.google.com/github/GoogleCloudPlatform/dfcx-scrapi/blob/main/examples/vertex_ai_conversation/datastores_and_search.ipynb\">\n",
    "      <img src=\"https://cloud.google.com/ml-engine/images/colab-logo-32px.png\" alt=\"Google Colaboratory logo\"><br> Run in Colab\n",
    "    </a>\n",
    "  </td>\n",
    "  <td style=\"text-align: center\">\n",
    "    <a href=\"https://github.com/GoogleCloudPlatform/dfcx-scrapi/blob/main/examples/vertex_ai_conversation/datastores_and_search.ipynb\">\n",
    "      <img src=\"https://cloud.google.com/ml-engine/images/github-logo-32px.png\" alt=\"GitHub logo\"><br> View on GitHub\n",
    "    </a>\n",
    "  </td>\n",
    "  <td style=\"text-align: center\">\n",
    "    <a href=\"https://console.cloud.google.com/vertex-ai/workbench/deploy-notebook?download_url=https://raw.githubusercontent.com/GoogleCloudPlatform/dfcx-scrapi/blob/main/examples/vertex_ai_conversation/datastores_and_search.ipynb\">\n",
    "      <img src=\"https://lh3.googleusercontent.com/UiNooY4LUgW_oTvpsNhPpQzsstV5W8F7rYgxgGBD85cWJoLmrOzhVs_ksK_vgx40SHs7jCqkTkCk=e14-rj-sc0xffffff-h130-w32\" alt=\"Vertex AI logo\"><br> Open in Vertex AI Workbench\n",
    "    </a>\n",
    "  </td>\n",
    "</table>"
   ]
  },
  {
   "cell_type": "code",
   "execution_count": null,
   "metadata": {},
   "outputs": [],
   "source": [
    "!pip install dfcx-scrapi>=1.10.6\n",
    "\n",
    "from google.colab import auth as google_auth\n",
    "google_auth.authenticate_user()"
   ]
  },
  {
   "cell_type": "markdown",
   "metadata": {},
   "source": [
    "# Imports"
   ]
  },
  {
   "cell_type": "code",
   "execution_count": 1,
   "metadata": {},
   "outputs": [],
   "source": [
    "from dfcx_scrapi.core.data_stores import DataStores\n",
    "from dfcx_scrapi.core.engines import Engines\n",
    "from dfcx_scrapi.core.sites import Sites\n",
    "from dfcx_scrapi.core.search import Search"
   ]
  },
  {
   "cell_type": "markdown",
   "metadata": {},
   "source": [
    "# User Inputs\n",
    "In the next section, we will collect runtime variables needed to execute this notebook.   \n",
    "This should be the only cell of the notebook you need to edit in order for this notebook to run."
   ]
  },
  {
   "cell_type": "code",
   "execution_count": 2,
   "metadata": {},
   "outputs": [],
   "source": [
    "PROJECT_ID = \"YOUR_GCP_PROJECT_ID\"\n",
    "# CREDS_PATH = \"YOUR_CREDS_PATH_IF_CREATING_ENGINE\""
   ]
  },
  {
   "cell_type": "markdown",
   "metadata": {},
   "source": [
    "# Create Data Store\n",
    "If you're creating a Data Store for Vertex Conversation, ensure you have `advanced_site_search` = `True`."
   ]
  },
  {
   "cell_type": "code",
   "execution_count": 3,
   "metadata": {},
   "outputs": [],
   "source": [
    "ds = DataStores(project_id=PROJECT_ID)"
   ]
  },
  {
   "cell_type": "code",
   "execution_count": null,
   "metadata": {},
   "outputs": [],
   "source": [
    "ds.create_datastore(\n",
    "    display_name=\"us-zone-scrapi-datastore\",\n",
    "    solution_type=\"chat\",\n",
    "    datastore_type=\"website\",\n",
    "    advanced_site_search=True,\n",
    "    location=\"us\"\n",
    ")"
   ]
  },
  {
   "cell_type": "markdown",
   "metadata": {},
   "source": [
    "## List Data Stores or Get Data Store Map\n",
    "Use `list_data_stores` to confirm that your Data Store was created, or use the convenient `get_data_stores_map` to get an easy resource mapping for your Data Store Names/IDs"
   ]
  },
  {
   "cell_type": "code",
   "execution_count": null,
   "metadata": {},
   "outputs": [],
   "source": [
    "ds_map = ds.get_data_stores_map(reverse=True, location=\"us\")\n",
    "ds_map"
   ]
  },
  {
   "cell_type": "markdown",
   "metadata": {},
   "source": [
    "### Inspect Data Store Config"
   ]
  },
  {
   "cell_type": "code",
   "execution_count": null,
   "metadata": {},
   "outputs": [],
   "source": [
    "datastore = ds.get_data_store(ds_map[\"us-zone-scrapi-datastore\"])\n",
    "print(datastore)"
   ]
  },
  {
   "cell_type": "markdown",
   "metadata": {},
   "source": [
    "### Inspect Data Store Contents"
   ]
  },
  {
   "cell_type": "code",
   "execution_count": null,
   "metadata": {},
   "outputs": [],
   "source": [
    "sites = Sites(project_id=PROJECT_ID)\n",
    "\n",
    "docs = sites.list_sites(ds_map[\"us-zone-scrapi-datastore\"])\n",
    "\n",
    "for doc in docs:\n",
    "  print(f\"SITE: {doc.generated_uri_pattern}\\nLAST UPDATE: {doc.update_time}\")"
   ]
  },
  {
   "cell_type": "markdown",
   "metadata": {},
   "source": [
    "# Add URI Patterns to Data Store\n",
    "For this example, we'll add 2 patterns:\n",
    "- Include `www.example.com/blog/*`\n",
    "- Exclude `www.example.com/news/*`"
   ]
  },
  {
   "cell_type": "code",
   "execution_count": 12,
   "metadata": {},
   "outputs": [],
   "source": [
    "sites = Sites(project_id=PROJECT_ID)"
   ]
  },
  {
   "cell_type": "code",
   "execution_count": null,
   "metadata": {},
   "outputs": [],
   "source": [
    "sites.create_site(\n",
    "    data_store_id=ds_map[\"us-zone-scrapi-datastore\"],\n",
    "    uri_pattern=\"www.example.com/blog/*\",\n",
    "    include_site=True,\n",
    "    exact_match=False\n",
    ")"
   ]
  },
  {
   "cell_type": "code",
   "execution_count": null,
   "metadata": {},
   "outputs": [],
   "source": [
    "sites.create_site(\n",
    "    data_store_id=ds_map[\"us-zone-scrapi-datastore\"],\n",
    "    uri_pattern=\"www.example.com/news\",\n",
    "    include_site=False,\n",
    "    exact_match=False\n",
    ")"
   ]
  },
  {
   "cell_type": "markdown",
   "metadata": {},
   "source": [
    "## Inspect Data Store to See Sites Added\n",
    "Notice that one of these is `VERIFIED` and another is `UNVERIFIED`.  \n",
    "You will still need to use the Google Cloud Console to go through the verifcation proecess per usual.\n",
    "\n",
    "You can also use `get_site_index_status` or `get_site_verification_status` to check on the status of Indexing and Verification programmatically."
   ]
  },
  {
   "cell_type": "code",
   "execution_count": null,
   "metadata": {},
   "outputs": [],
   "source": [
    "sites.list_sites(ds_map[\"us-zone-scrapi-datastore\"])"
   ]
  },
  {
   "cell_type": "markdown",
   "metadata": {},
   "source": [
    "# Create Engine!\n",
    "For the final step, we'll create our Chat Engine.\n",
    "\n",
    "**NOTE** - Remember that for this step you MUST use a Service Account key!"
   ]
  },
  {
   "cell_type": "code",
   "execution_count": null,
   "metadata": {},
   "outputs": [],
   "source": [
    "eng = Engines(PROJECT_ID, creds_path=CREDS_PATH)"
   ]
  },
  {
   "cell_type": "code",
   "execution_count": null,
   "metadata": {},
   "outputs": [],
   "source": [
    "eng_proto = eng.build_chat_engine_proto(\n",
    "    display_name=\"my-cool-website-engine\",\n",
    "    business_name=\"Google Example\",\n",
    "    data_store_ids=[ds_map[\"us-zone-scrapi-datastore\"]], # we're using our convenient map to add the IDs here!\n",
    ")\n",
    "eng_proto"
   ]
  },
  {
   "cell_type": "code",
   "execution_count": null,
   "metadata": {},
   "outputs": [],
   "source": [
    "eng.create_engine(eng_proto)"
   ]
  },
  {
   "cell_type": "markdown",
   "metadata": {},
   "source": [
    "## List Engines\n",
    "Finally, verify that your Engine was created successfully!  \n",
    "You can use `list_engines` or `get_engines_map` to verify."
   ]
  },
  {
   "cell_type": "code",
   "execution_count": null,
   "metadata": {},
   "outputs": [],
   "source": [
    "eng.get_engines_map(reverse=True)"
   ]
  },
  {
   "cell_type": "markdown",
   "metadata": {},
   "source": [
    "# Search\n",
    "In this final section, we'll run a search against our newly indexed datastore."
   ]
  },
  {
   "cell_type": "code",
   "execution_count": null,
   "metadata": {},
   "outputs": [],
   "source": [
    "ds = DataStores(project_id=PROJECT_ID)\n",
    "s = Search()\n",
    "\n",
    "ds_map = ds.get_data_stores_map(reverse=True, location=\"us\")\n",
    "ds_map"
   ]
  },
  {
   "cell_type": "markdown",
   "metadata": {},
   "source": [
    "## Define Search Config\n",
    "In order to get high quality search results from your new datastore, there are\n",
    "many different config parameters you can provide for your `search_config`.  \n",
    "The\n",
    "full list can be found in the [SearchRequest](https://cloud.google.com/python/docs/reference/discoveryengine/latest/google.cloud.discoveryengine_v1beta.types.SearchRequest) documentation.\n",
    "\n",
    "Here, we will provide a minimal config for demonstration purposes."
   ]
  },
  {
   "cell_type": "code",
   "execution_count": 26,
   "metadata": {},
   "outputs": [],
   "source": [
    "search_config = {\n",
    "    \"data_store_id\": f\"{ds_map['us-zone-scrapi-datastore']}\",\n",
    "    \"query\": \"What is an example domain?\"\n",
    "}"
   ]
  },
  {
   "cell_type": "code",
   "execution_count": null,
   "metadata": {},
   "outputs": [],
   "source": [
    "s.search(search_config)"
   ]
  },
  {
   "cell_type": "markdown",
   "metadata": {},
   "source": [
    "# Ending and Wrap-Up\n",
    "\n",
    "In this notebook, we've shown how to programmatically build a DataStore, index some test websites, and query them using a search config.\n",
    "\n",
    "For more information, see:\n",
    "- [Vertex AI Search](https://cloud.google.com/generative-ai-app-builder/docs/try-enterprise-search)\n",
    "- [Verex AI Conversation](https://cloud.google.com/dialogflow/vertex/docs)"
   ]
  }
 ],
 "metadata": {
  "interpreter": {
   "hash": "19fe958eff886c70bc7b0837ba1e6b09536c8944c54196036e51b6ba767223fc"
  },
  "kernelspec": {
   "display_name": "Python 3.8.11 64-bit ('scrapi-local': conda)",
   "name": "python3"
  },
  "language_info": {
   "codemirror_mode": {
    "name": "ipython",
    "version": 3
   },
   "file_extension": ".py",
   "mimetype": "text/x-python",
   "name": "python",
   "nbconvert_exporter": "python",
   "pygments_lexer": "ipython3",
   "version": "3.8.12"
  },
  "orig_nbformat": 4
 },
 "nbformat": 4,
 "nbformat_minor": 2
}
