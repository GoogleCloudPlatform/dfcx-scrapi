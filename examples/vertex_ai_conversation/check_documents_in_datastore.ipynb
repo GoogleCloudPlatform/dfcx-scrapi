{
 "cells": [
  {
   "cell_type": "markdown",
   "metadata": {},
   "source": [
    "Simple notebook that uses the Cloud DiscoveryEngine API to check a Data Store for indexed docs.\n",
    "Uses the DiscoveryEngine Python API.\n",
    "\n",
    "<table align=\"left\">\n",
    "  <td style=\"text-align: center\">\n",
    "    <a href=\"https://colab.research.google.com/github/GoogleCloudPlatform/dfcx-scrapi/blob/main/examples/vertex_ai_conversation/evaluation_tool__numeric_score__colab.ipynb\">\n",
    "      <img src=\"https://cloud.google.com/ml-engine/images/colab-logo-32px.png\" alt=\"Google Colaboratory logo\"><br> Run in Colab\n",
    "    </a>\n",
    "  </td>\n",
    "  <td style=\"text-align: center\">\n",
    "    <a href=\"https://github.com/GoogleCloudPlatform/dfcx-scrapi/blob/main/examples/vertex_ai_conversation/evaluation_tool__numeric_score__colab.ipynb\">\n",
    "      <img src=\"https://cloud.google.com/ml-engine/images/github-logo-32px.png\" alt=\"GitHub logo\"><br> View on GitHub\n",
    "    </a>\n",
    "  </td>\n",
    "  <td style=\"text-align: center\">\n",
    "    <a href=\"https://console.cloud.google.com/vertex-ai/workbench/deploy-notebook?download_url=https://raw.githubusercontent.com/GoogleCloudPlatform/dfcx-scrapi/blob/main/examples/vertex_ai_conversation/evaluation_tool__numeric_score__colab.ipynb\">\n",
    "      <img src=\"https://lh3.googleusercontent.com/UiNooY4LUgW_oTvpsNhPpQzsstV5W8F7rYgxgGBD85cWJoLmrOzhVs_ksK_vgx40SHs7jCqkTkCk=e14-rj-sc0xffffff-h130-w32\" alt=\"Vertex AI logo\"><br> Open in Vertex AI Workbench\n",
    "    </a>\n",
    "  </td>\n",
    "</table>\n",
    "<br><br><br>\n",
    "\n"
   ]
  },
  {
   "cell_type": "code",
   "execution_count": null,
   "metadata": {
    "vscode": {
     "languageId": "plaintext"
    }
   },
   "outputs": [],
   "source": [
    "## Instructions:"
   ]
  },
  {
   "cell_type": "markdown",
   "metadata": {},
   "source": [
    "## Setup:"
   ]
  },
  {
   "cell_type": "code",
   "execution_count": null,
   "metadata": {
    "vscode": {
     "languageId": "plaintext"
    }
   },
   "outputs": [],
   "source": [
    "# Dependencies\n",
    "!pip install google-cloud-discoveryengine --quiet\n",
    "\n",
    "from google.colab import auth\n",
    "from google.auth import default\n",
    "\n",
    "# Authentication\n",
    "auth.authenticate_user()\n",
    "creds, _ = default()"
   ]
  },
  {
   "cell_type": "markdown",
   "metadata": {},
   "source": [
    "# DiscoveryEngine Client and Helper Functions\n"
   ]
  },
  {
   "cell_type": "code",
   "execution_count": null,
   "metadata": {
    "vscode": {
     "languageId": "plaintext"
    }
   },
   "outputs": [],
   "source": [
    "import time\n",
    "from google.cloud import discoveryengine_v1\n",
    "from google.api_core import operations_v1, grpc_helpers\n",
    "from google.longrunning import operations_pb2\n",
    "from typing import List, Optional\n",
    "\n",
    "def list_documents(\n",
    "    project_id: str, location: str, datastore_id: str, rate_limit: int = 1):\n",
    "  \"\"\"Gets a list of docs in a datastore.\"\"\"\n",
    "  client = discoveryengine_v1.DocumentServiceClient()\n",
    "\n",
    "  request = discoveryengine_v1.ListDocumentsRequest(\n",
    "      parent=f'projects/{project_id}/locations/{location}/collections/default_collection/dataStores/{datastore_id}/branches/0',\n",
    "      page_size=1000\n",
    "  )\n",
    "\n",
    "  res = client.list_documents(request=request)\n",
    "\n",
    "  # setup the list with the first batch of docs\n",
    "  docs = res.documents\n",
    "\n",
    "  while res.next_page_token:\n",
    "    # implement a rate_limit to prevent quota exhaustion\n",
    "    time.sleep(rate_limit)\n",
    "\n",
    "    request = discoveryengine_v1.ListDocumentsRequest(\n",
    "      parent=f'projects/{project_id}/locations/{location}/collections/default_collection/dataStores/{datastore_id}/branches/0',\n",
    "      page_size=1000,\n",
    "      page_token=res.next_page_token\n",
    "    )\n",
    "\n",
    "    res = client.list_documents(request=request)\n",
    "    docs.extend(res.documents)\n",
    "\n",
    "  return docs\n",
    "\n",
    "def list_indexed_urls(\n",
    "    project_id: str,\n",
    "    location: str,\n",
    "    datastore_id: str,\n",
    "    docs: Optional[List[discoveryengine_v1.Document]] = None):\n",
    "  \"\"\"Get the list of docs in datastore, then parse to only urls.\"\"\"\n",
    "  if not docs:\n",
    "    docs = list_documents(project_id, location, datastore_id)\n",
    "  urls = [doc.content.uri for doc in docs]\n",
    "\n",
    "  return urls\n",
    "\n",
    "def search_url(urls: List[str], url: str):\n",
    "  \"\"\"Searches a url in a list of urls.\"\"\"\n",
    "  for item in urls:\n",
    "    if url in item:\n",
    "      print(item)\n",
    "\n",
    "def search_doc_id(\n",
    "    doc_id: str, docs: Optional[List[discoveryengine_v1.Document]] = None):\n",
    "  \"\"\"Searches a doc_id in a list of docs.\"\"\"\n",
    "  if not docs:\n",
    "    docs = list_documents(project_id, location, datastore_id)\n",
    "\n",
    "  doc_found = False\n",
    "  for doc in docs:\n",
    "    if doc.parent_document_id == document_id:\n",
    "      doc_found = True\n",
    "      print(doc)\n",
    "\n",
    "  if not doc_found:\n",
    "    print(f\"Document not found for provided Doc ID: `{doc_id}`\")\n",
    "\n",
    "\n",
    "def get_operations_status(operation_id: str):\n",
    "  \"\"\"Get the status of an import operation for Discovery Engine.\"\"\"\n",
    "  host = \"discoveryengine.googleapis.com\"\n",
    "  channel = grpc_helpers.create_channel(host)\n",
    "  client = operations_v1.OperationsClient(channel)\n",
    "\n",
    "  response = client.get_operation(operation_id)\n",
    "\n",
    "  return response\n",
    "\n",
    "PENDING_MESSAGE = \"\"\"\n",
    "No docs found.\\n\\nIt\\'s likely one of two issues: \\n  [1] Your data store is not finished indexing. \\n  [2] Your data store failed indexing.\\n\n",
    "If you just added your data store, it can take up to 4 hours before it will become available.\n",
    "\"\"\""
   ]
  },
  {
   "cell_type": "markdown",
   "metadata": {},
   "source": [
    "# USER INPUTS\n",
    "You can find your `datastore_id` by going following these steps:\n",
    "1. Click on Gen App Builder\n",
    "2. Select your App / Engine\n",
    "3. Select your Available Data Store\n",
    "4. Find your Data Store ID"
   ]
  },
  {
   "cell_type": "code",
   "execution_count": null,
   "metadata": {
    "vscode": {
     "languageId": "plaintext"
    }
   },
   "outputs": [],
   "source": [
    "project_id = '' #@param{type: 'string'}\n",
    "location = 'global'  #@param{type: 'string'}\n",
    "datastore_id = ''  #@param{type: 'string'}"
   ]
  },
  {
   "cell_type": "markdown",
   "metadata": {},
   "source": [
    "# Check Data Store Index Status\n",
    "Using the `list_documents` method, to check if the data store has finished indexing."
   ]
  },
  {
   "cell_type": "code",
   "execution_count": null,
   "metadata": {
    "vscode": {
     "languageId": "plaintext"
    }
   },
   "outputs": [],
   "source": [
    "docs = list_documents(project_id, location, datastore_id)\n",
    "\n",
    "if len(docs) == 0:\n",
    "  print(PENDING_MESSAGE)\n",
    "else:\n",
    "  SUCCESS_MESSAGE = f\"\"\"\n",
    "  Success! 🎉\\n\n",
    "  Your indexing is complete.\\n\n",
    "  Your index contains {len(docs)} documents.\n",
    "  \"\"\"\n",
    "  print(SUCCESS_MESSAGE)"
   ]
  },
  {
   "cell_type": "markdown",
   "metadata": {},
   "source": [
    "# List Documents\n",
    "List all the documents for a given Data Store ID"
   ]
  },
  {
   "cell_type": "code",
   "execution_count": null,
   "metadata": {
    "vscode": {
     "languageId": "plaintext"
    }
   },
   "outputs": [],
   "source": [
    "docs = list_documents(project_id, location, datastore_id)\n",
    "docs[0]"
   ]
  },
  {
   "cell_type": "markdown",
   "metadata": {},
   "source": [
    "# List Indexed URLs"
   ]
  },
  {
   "cell_type": "code",
   "execution_count": null,
   "metadata": {
    "vscode": {
     "languageId": "plaintext"
    }
   },
   "outputs": [],
   "source": [
    "urls = list_indexed_urls(project_id, location, datastore_id, docs)\n",
    "urls[0]"
   ]
  },
  {
   "cell_type": "markdown",
   "metadata": {},
   "source": [
    "Display list of urls"
   ]
  },
  {
   "cell_type": "code",
   "execution_count": null,
   "metadata": {
    "vscode": {
     "languageId": "plaintext"
    }
   },
   "outputs": [],
   "source": [
    "urls"
   ]
  },
  {
   "cell_type": "markdown",
   "metadata": {},
   "source": [
    "Write Urls to a file in json format"
   ]
  },
  {
   "cell_type": "code",
   "execution_count": null,
   "metadata": {
    "vscode": {
     "languageId": "plaintext"
    }
   },
   "outputs": [],
   "source": [
    "import json\n",
    "\n",
    "with open('my_list.json', 'w') as file:\n",
    "    json.dump(urls, file)"
   ]
  },
  {
   "cell_type": "markdown",
   "metadata": {},
   "source": [
    "# Search Indexed URLs"
   ]
  },
  {
   "cell_type": "code",
   "execution_count": null,
   "metadata": {
    "vscode": {
     "languageId": "plaintext"
    }
   },
   "outputs": [],
   "source": [
    "search_url(urls, 'tundra-250')"
   ]
  },
  {
   "cell_type": "markdown",
   "metadata": {},
   "source": [
    "# Search Data Store by Doc ID\n",
    "\n",
    "\n",
    "Search through all Docs in a given Data Store and find a specific Doc ID."
   ]
  },
  {
   "cell_type": "code",
   "execution_count": null,
   "metadata": {
    "vscode": {
     "languageId": "plaintext"
    }
   },
   "outputs": [],
   "source": [
    "document_id = 'a71d802406f2f0e546b621245e1cbc6a'\n",
    "\n",
    "search_doc_id(document_id, docs)"
   ]
  }
 ],
 "metadata": {
  "language_info": {
   "name": "python"
  }
 },
 "nbformat": 4,
 "nbformat_minor": 2
}
