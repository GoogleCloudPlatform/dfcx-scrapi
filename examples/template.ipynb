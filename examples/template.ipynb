{
 "cells": [
  {
   "cell_type": "markdown",
   "source": [
    "# NOTEBOOK TEMPLATE (Remove This Cell Before Publishing)\n",
    "This `.ipynb` file can be used as a template to create new example notebooks to share with users.\n",
    "\n",
    "## Guidelines\n",
    "Some strict guidelines to follow for creating and publishing a notebook in this repo:\n",
    "1. All notebooks must include the Apache License.\n",
    "2. Notebooks should not contain any PII, PHI or other sensitive information either in the form of variables or output.\n",
    "    - As a best practice (where possible) write sample output structure in a markdown cell with fake data rather than using real data\n",
    "\n",
    "### _**PRs that do not adhere to these guidelines will be rejected.**_\n",
    "\n",
    "## Best Practices\n",
    "A few best practices to consider when creating and publishing a notebook in this repo:\n",
    "1. Notebooks should strive to have clear, concise instructions.\n",
    "2. Notebooks should run 'as-is' without the need for the user to write additional code.\n",
    "3. Be descriptive with your Section titles.\n",
    "    - Avoid generic titles like `Main` or `Run`\n",
    "    - Instead, describe what your Section is about to do like `Extract Intents and Training Phrases`\n",
    "\n",
    "In each section below we've included sample instructions and minimal code as a pointer for the template.   \n",
    "If you need further motivation, see [this sample notebook](https://github.com/GoogleCloudPlatform/dfcx-scrapi/blob/main/examples/bot_building_series/bot_building_101.ipynb)"
   ],
   "metadata": {}
  },
  {
   "cell_type": "code",
   "execution_count": null,
   "source": [
    "# Copyright 2021 Google LLC\n",
    "#\n",
    "# Licensed under the Apache License, Version 2.0 (the \"License\");\n",
    "# you may not use this file except in compliance with the License.\n",
    "# You may obtain a copy of the License at\n",
    "#\n",
    "#     https://www.apache.org/licenses/LICENSE-2.0\n",
    "#\n",
    "# Unless required by applicable law or agreed to in writing, software\n",
    "# distributed under the License is distributed on an \"AS IS\" BASIS,\n",
    "# WITHOUT WARRANTIES OR CONDITIONS OF ANY KIND, either express or implied.\n",
    "# See the License for the specific language governing permissions and\n",
    "# limitations under the License."
   ],
   "outputs": [],
   "metadata": {}
  },
  {
   "cell_type": "markdown",
   "source": [
    "# Introduction\n",
    "In this notebook, we will show you how to \\<_INSERT TOPIC OF NOTEBOOK HERE_\\>.\n",
    "\n",
    "_Example: In this notebook, we will show you how to extract all Intents and Training Phrases from a Dialogflow CX Agent into a Pandas DataFrame._\n",
    "\n",
    "## Prerequisites\n",
    "- Prereq #1 Goes Here\n",
    "- Prereq #2 Goes Here - [Document Link](www.example.com)"
   ],
   "metadata": {}
  },
  {
   "cell_type": "code",
   "execution_count": null,
   "source": [
    "!pip install dfcx-scrapi"
   ],
   "outputs": [],
   "metadata": {}
  },
  {
   "cell_type": "markdown",
   "source": [
    "# Imports\n",
    "\\<_INSERT INFORMATION ABOUT NON-STANDARD IMPORTS HERE_\\>\n",
    "\n",
    "_Example: We're importing the `tqdm` library to build a progress bar for our long running function in this notebook._"
   ],
   "metadata": {}
  },
  {
   "cell_type": "code",
   "execution_count": null,
   "source": [
    "from dfcx_scrapi.core.intents import Intents"
   ],
   "outputs": [],
   "metadata": {}
  },
  {
   "cell_type": "markdown",
   "source": [
    "# User Inputs\n",
    "In the next section, we will collect runtime variables needed to execute this notebook.   \n",
    "This should be the only cell of the notebook you need to edit in order for this notebook to run.\n",
    "\n",
    "\\<_INSERT INFORMATION ABOUT WHAT INPUTS YOUR USER WILL NEED TO PROVIDE_>\n",
    "\n",
    "_Example: For this notebook, we'll need the following information:_\n",
    "- `creds_path`: Your local path to your GCP Service Account Credentials\n",
    "- `agent_id`: Your Dialogflow CX Agent ID in String format\n",
    "- `intent_subset`: A list of strings containing the Intent Names to include"
   ],
   "metadata": {}
  },
  {
   "cell_type": "code",
   "execution_count": null,
   "source": [
    "creds_path = '<YOUR_CREDS_PATH_HERE>'\n",
    "agent_id = '<YOUR_AGENT_ID_HERE>'\n",
    "intent_subset = ['confirmation.yes','confirmation.no']"
   ],
   "outputs": [],
   "metadata": {}
  },
  {
   "cell_type": "markdown",
   "source": [
    "# Extract Intents and Training Phrases"
   ],
   "metadata": {}
  },
  {
   "cell_type": "code",
   "execution_count": null,
   "source": [
    "intents = Intents(creds_path=creds_path, agent_id=agent_id)\n",
    "\n",
    "if intent_subset:\n",
    "    all_intents = intents.bulk_intent_to_df(intent_subset=intent_subset)\n",
    "\n",
    "else:\n",
    "    all_intents = intents.bulk_intent_to_df()"
   ],
   "outputs": [],
   "metadata": {}
  },
  {
   "cell_type": "markdown",
   "source": [
    "## View Results Sample"
   ],
   "metadata": {}
  },
  {
   "cell_type": "code",
   "execution_count": 26,
   "source": [
    "all_intents.head(10)"
   ],
   "outputs": [
    {
     "output_type": "execute_result",
     "data": {
      "text/html": [
       "<div>\n",
       "<style scoped>\n",
       "    .dataframe tbody tr th:only-of-type {\n",
       "        vertical-align: middle;\n",
       "    }\n",
       "\n",
       "    .dataframe tbody tr th {\n",
       "        vertical-align: top;\n",
       "    }\n",
       "\n",
       "    .dataframe thead th {\n",
       "        text-align: right;\n",
       "    }\n",
       "</style>\n",
       "<table border=\"1\" class=\"dataframe\">\n",
       "  <thead>\n",
       "    <tr style=\"text-align: right;\">\n",
       "      <th></th>\n",
       "      <th>intent</th>\n",
       "      <th>tp</th>\n",
       "    </tr>\n",
       "  </thead>\n",
       "  <tbody>\n",
       "    <tr>\n",
       "      <th>0</th>\n",
       "      <td>confirmation.no</td>\n",
       "      <td>nah</td>\n",
       "    </tr>\n",
       "    <tr>\n",
       "      <th>1</th>\n",
       "      <td>confirmation.no</td>\n",
       "      <td>no</td>\n",
       "    </tr>\n",
       "    <tr>\n",
       "      <th>2</th>\n",
       "      <td>confirmation.no</td>\n",
       "      <td>nope</td>\n",
       "    </tr>\n",
       "    <tr>\n",
       "      <th>3</th>\n",
       "      <td>confirmation.no</td>\n",
       "      <td>nuh uh</td>\n",
       "    </tr>\n",
       "    <tr>\n",
       "      <th>4</th>\n",
       "      <td>confirmation.yes</td>\n",
       "      <td>confirmed</td>\n",
       "    </tr>\n",
       "    <tr>\n",
       "      <th>5</th>\n",
       "      <td>confirmation.yes</td>\n",
       "      <td>correct</td>\n",
       "    </tr>\n",
       "    <tr>\n",
       "      <th>6</th>\n",
       "      <td>confirmation.yes</td>\n",
       "      <td>right on</td>\n",
       "    </tr>\n",
       "    <tr>\n",
       "      <th>7</th>\n",
       "      <td>confirmation.yes</td>\n",
       "      <td>uh huh</td>\n",
       "    </tr>\n",
       "    <tr>\n",
       "      <th>8</th>\n",
       "      <td>confirmation.yes</td>\n",
       "      <td>yeah sure</td>\n",
       "    </tr>\n",
       "    <tr>\n",
       "      <th>9</th>\n",
       "      <td>confirmation.yes</td>\n",
       "      <td>yep</td>\n",
       "    </tr>\n",
       "  </tbody>\n",
       "</table>\n",
       "</div>"
      ],
      "text/plain": [
       "             intent         tp\n",
       "0   confirmation.no        nah\n",
       "1   confirmation.no         no\n",
       "2   confirmation.no       nope\n",
       "3   confirmation.no     nuh uh\n",
       "4  confirmation.yes  confirmed\n",
       "5  confirmation.yes    correct\n",
       "6  confirmation.yes   right on\n",
       "7  confirmation.yes     uh huh\n",
       "8  confirmation.yes  yeah sure\n",
       "9  confirmation.yes        yep"
      ]
     },
     "metadata": {},
     "execution_count": 26
    }
   ],
   "metadata": {}
  },
  {
   "cell_type": "markdown",
   "source": [
    "# Ending and Wrap-Up\n",
    "\\<_INSERT ANY LESSONS LEARNED OR WRAP UP INFORMATION ABOUT THIS NOTEBOOK_\\>\n",
    "\n",
    "_Example:   \n",
    "In this notebook, we've shown how to extract specific Intents and Training Phrease from an Agent by providing an intent subset list._   \n",
    "_For more advanced features, see our follow-up notebook located [here](www.example.com)_"
   ],
   "metadata": {}
  },
  {
   "cell_type": "markdown",
   "source": [],
   "metadata": {}
  }
 ],
 "metadata": {
  "orig_nbformat": 4,
  "language_info": {
   "name": "python",
   "version": "3.8.11",
   "mimetype": "text/x-python",
   "codemirror_mode": {
    "name": "ipython",
    "version": 3
   },
   "pygments_lexer": "ipython3",
   "nbconvert_exporter": "python",
   "file_extension": ".py"
  },
  "kernelspec": {
   "name": "python3",
   "display_name": "Python 3.8.11 64-bit ('scrapi-local': conda)"
  },
  "interpreter": {
   "hash": "19fe958eff886c70bc7b0837ba1e6b09536c8944c54196036e51b6ba767223fc"
  }
 },
 "nbformat": 4,
 "nbformat_minor": 2
}