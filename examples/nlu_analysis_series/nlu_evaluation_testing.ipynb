{
 "cells": [
  {
   "cell_type": "code",
   "execution_count": null,
   "metadata": {},
   "outputs": [],
   "source": [
    "# Copyright 2023 Google LLC\n",
    "#\n",
    "# Licensed under the Apache License, Version 2.0 (the \"License\");\n",
    "# you may not use this file except in compliance with the License.\n",
    "# You may obtain a copy of the License at\n",
    "#\n",
    "#     https://www.apache.org/licenses/LICENSE-2.0\n",
    "#\n",
    "# Unless required by applicable law or agreed to in writing, software\n",
    "# distributed under the License is distributed on an \"AS IS\" BASIS,\n",
    "# WITHOUT WARRANTIES OR CONDITIONS OF ANY KIND, either express or implied.\n",
    "# See the License for the specific language governing permissions and\n",
    "# limitations under the License."
   ]
  },
  {
   "cell_type": "markdown",
   "metadata": {},
   "source": [
    "# NLU Evaluation Testing\n",
    "In this notebook, we will show you how to perform bulk NLU testing by providing a large input corpus and receiving the predicted Intent and Parameter extraction results from your agent.\n",
    "\n",
    "## Prerequisites\n",
    "- Ensure you have a GCP Service Account key with the Dialogflow API Admin privileges assigned to it."
   ]
  },
  {
   "cell_type": "code",
   "execution_count": null,
   "metadata": {},
   "outputs": [],
   "source": [
    "# If you haven't already, make sure you install the `dfcx-scrapi` library\n",
    "\n",
    "!pip install dfcx-scrapi"
   ]
  },
  {
   "cell_type": "markdown",
   "metadata": {},
   "source": [
    "# Imports"
   ]
  },
  {
   "cell_type": "code",
   "execution_count": 17,
   "metadata": {},
   "outputs": [],
   "source": [
    "from dfcx_scrapi.tools.nlu_evals import NluEvals"
   ]
  },
  {
   "cell_type": "markdown",
   "metadata": {},
   "source": [
    "# (Option 1) Google Sheet as Input\n",
    "The primary option for running the NLU Eval pipeline revolves around using Google Sheets as a source for your data.  \n",
    "This method provides a simple, streamlined system that can pull and push data all into a single Google Sheet.\n",
    "\n",
    "In order to run the full NLU evaluation test, the following inputs are needed:\n",
    "- `agent_id`, The Dialogflow CX Agent ID.\n",
    "- `input_google_sheet`, the Display Name of the Google Sheet.\n",
    "- `input_google_sheet_tab`, the Display Name of the tab on the Google Sheet where your input data lives.\n",
    "- `output_google_sheet_results`, the Display Name of the tab on the Google Sheet where you want the full output results to be written.\n",
    "- `output_google_sheet_summary`, the Display Name of the tab on the Google Sheet where you want the report summary to be written.\n",
    "\n",
    "_**NOTE** - In order for your Service Account to access your Google Sheet (read / write) you need to share the Google Sheet with your Service Account email address._\n",
    "\n",
    "You can find a [Sample Google Sheet dataset](https://docs.google.com/spreadsheets/d/e/2PACX-1vREvsZAktNvRr78KjUBlZl2PVUHKJru8hRCgmuDi9kn_oDT_weFKkGmyoQwRPdj0JcxK1kNzgceAPA5/pubhtml#) here."
   ]
  },
  {
   "cell_type": "code",
   "execution_count": 18,
   "metadata": {},
   "outputs": [],
   "source": [
    "agent_id = '<YOUR_AGENT_ID>'\n",
    "creds_path = '<YOUR_CREDS_FILE>'\n",
    "\n",
    "# Sample Inputs\n",
    "input_google_sheet = 'Dialogflow CX SCRAPI - NLU Eval Sample Dataset'\n",
    "input_google_sheet_tab = 'input_dataset'\n",
    "output_google_sheet_results = 'results'\n",
    "output_google_sheet_summary = 'summary'"
   ]
  },
  {
   "cell_type": "markdown",
   "metadata": {},
   "source": [
    "## Run NLU Evals\n",
    "There are 3 main stages that happen for the Eval Pipeline:\n",
    "1. Process and validate the input data\n",
    "2. Run the Eval Tests\n",
    "3. Write the output summary and details to a report."
   ]
  },
  {
   "cell_type": "code",
   "execution_count": 19,
   "metadata": {},
   "outputs": [
    {
     "name": "stderr",
     "output_type": "stream",
     "text": [
      "2023-09-11 11:40:31 INFO     ---------- STARTING Evals ----------\n",
      "2023-09-11 11:40:37 WARNING  Text input is too long. Truncating to 256 characters.\n",
      "2023-09-11 11:40:37 WARNING  TRUNCATED TEXT: Why can't I get my bill paid at all online? Why can't I get my bill paid at all online?Why can't I get my bill paid at all online?Why can't I get my bill paid at all online?Why can't I get my bill paid at all online?Why can't I get my bill paid at all onli\n",
      "2023-09-11 11:40:41 INFO     Progress(0/15)[>                                                 ] 0.00%\n",
      "2023-09-11 11:40:51 INFO     Progress(15/15)[------------------------------------------------->] 100.00%\n",
      "2023-09-11 11:40:51 INFO     ---------- Evals COMPLETE ----------\n"
     ]
    }
   ],
   "source": [
    "nlu = NluEvals(agent_id, creds_path=creds_path)\n",
    "\n",
    "df = nlu.process_input_google_sheet(input_google_sheet, input_google_sheet_tab)\n",
    "df = nlu.run_evals(df)\n",
    "nlu.write_results_to_sheets(df, input_google_sheet, output_google_sheet_results, output_google_sheet_summary)"
   ]
  },
  {
   "cell_type": "markdown",
   "metadata": {},
   "source": [
    "## Inspect Results Locally\n",
    "You can also inspect and filter the results of your tests locally as needed."
   ]
  },
  {
   "cell_type": "code",
   "execution_count": 20,
   "metadata": {},
   "outputs": [
    {
     "data": {
      "text/html": [
       "<div>\n",
       "<style scoped>\n",
       "    .dataframe tbody tr th:only-of-type {\n",
       "        vertical-align: middle;\n",
       "    }\n",
       "\n",
       "    .dataframe tbody tr th {\n",
       "        vertical-align: top;\n",
       "    }\n",
       "\n",
       "    .dataframe thead th {\n",
       "        text-align: right;\n",
       "    }\n",
       "</style>\n",
       "<table border=\"1\" class=\"dataframe\">\n",
       "  <thead>\n",
       "    <tr style=\"text-align: right;\">\n",
       "      <th></th>\n",
       "      <th>flow_display_name</th>\n",
       "      <th>page_display_name</th>\n",
       "      <th>utterance</th>\n",
       "      <th>expected_intent</th>\n",
       "      <th>expected_parameters</th>\n",
       "      <th>target_page</th>\n",
       "      <th>match_type</th>\n",
       "      <th>confidence</th>\n",
       "      <th>parameters_set</th>\n",
       "      <th>detected_intent</th>\n",
       "      <th>agent_display_name</th>\n",
       "      <th>description</th>\n",
       "      <th>input_source</th>\n",
       "    </tr>\n",
       "  </thead>\n",
       "  <tbody>\n",
       "    <tr>\n",
       "      <th>0</th>\n",
       "      <td>Default Start Flow</td>\n",
       "      <td>START_PAGE</td>\n",
       "      <td>I need to get my order status</td>\n",
       "      <td>head_intent.order_status</td>\n",
       "      <td></td>\n",
       "      <td>sentiment_router</td>\n",
       "      <td>INTENT</td>\n",
       "      <td>1.000000</td>\n",
       "      <td></td>\n",
       "      <td>head_intent.order_status</td>\n",
       "      <td>[Demo] Multi Demo Extravaganza Part Deux: The Revenge</td>\n",
       "      <td>Demo Tests</td>\n",
       "      <td>input_dataset</td>\n",
       "    </tr>\n",
       "    <tr>\n",
       "      <th>1</th>\n",
       "      <td>Default Start Flow</td>\n",
       "      <td>START_PAGE</td>\n",
       "      <td>Trying to check the status of my order</td>\n",
       "      <td>head_intent.order_status</td>\n",
       "      <td></td>\n",
       "      <td>sentiment_router</td>\n",
       "      <td>INTENT</td>\n",
       "      <td>0.947959</td>\n",
       "      <td></td>\n",
       "      <td>head_intent.order_status</td>\n",
       "      <td>[Demo] Multi Demo Extravaganza Part Deux: The Revenge</td>\n",
       "      <td>Demo Tests</td>\n",
       "      <td>input_dataset</td>\n",
       "    </tr>\n",
       "    <tr>\n",
       "      <th>2</th>\n",
       "      <td>Default Start Flow</td>\n",
       "      <td>START_PAGE</td>\n",
       "      <td>I hate this order status agent!</td>\n",
       "      <td>head_intent.order_status</td>\n",
       "      <td></td>\n",
       "      <td>sentiment_router</td>\n",
       "      <td>INTENT</td>\n",
       "      <td>0.955709</td>\n",
       "      <td></td>\n",
       "      <td>head_intent.order_status</td>\n",
       "      <td>[Demo] Multi Demo Extravaganza Part Deux: The Revenge</td>\n",
       "      <td>Demo Tests</td>\n",
       "      <td>input_dataset</td>\n",
       "    </tr>\n",
       "    <tr>\n",
       "      <th>3</th>\n",
       "      <td>Default Start Flow</td>\n",
       "      <td>START_PAGE</td>\n",
       "      <td>Wha'ts the point of ordering anything?</td>\n",
       "      <td>NO_MATCH</td>\n",
       "      <td></td>\n",
       "      <td>sentiment_router</td>\n",
       "      <td>INTENT</td>\n",
       "      <td>0.841712</td>\n",
       "      <td></td>\n",
       "      <td>head_intent.order_status</td>\n",
       "      <td>[Demo] Multi Demo Extravaganza Part Deux: The Revenge</td>\n",
       "      <td>Demo Tests</td>\n",
       "      <td>input_dataset</td>\n",
       "    </tr>\n",
       "    <tr>\n",
       "      <th>4</th>\n",
       "      <td>Default Start Flow</td>\n",
       "      <td>START_PAGE</td>\n",
       "      <td>I was looking at the order of operations yesterday but couldn't figure it out</td>\n",
       "      <td>NO_MATCH</td>\n",
       "      <td></td>\n",
       "      <td>sentiment_router</td>\n",
       "      <td>INTENT</td>\n",
       "      <td>0.790275</td>\n",
       "      <td></td>\n",
       "      <td>head_intent.order_status</td>\n",
       "      <td>[Demo] Multi Demo Extravaganza Part Deux: The Revenge</td>\n",
       "      <td>Demo Tests</td>\n",
       "      <td>input_dataset</td>\n",
       "    </tr>\n",
       "  </tbody>\n",
       "</table>\n",
       "</div>"
      ],
      "text/plain": [
       "    flow_display_name page_display_name  \\\n",
       "0  Default Start Flow        START_PAGE   \n",
       "1  Default Start Flow        START_PAGE   \n",
       "2  Default Start Flow        START_PAGE   \n",
       "3  Default Start Flow        START_PAGE   \n",
       "4  Default Start Flow        START_PAGE   \n",
       "\n",
       "                                                                       utterance  \\\n",
       "0                                                  I need to get my order status   \n",
       "1                                         Trying to check the status of my order   \n",
       "2                                                I hate this order status agent!   \n",
       "3                                         Wha'ts the point of ordering anything?   \n",
       "4  I was looking at the order of operations yesterday but couldn't figure it out   \n",
       "\n",
       "            expected_intent expected_parameters       target_page match_type  \\\n",
       "0  head_intent.order_status                      sentiment_router     INTENT   \n",
       "1  head_intent.order_status                      sentiment_router     INTENT   \n",
       "2  head_intent.order_status                      sentiment_router     INTENT   \n",
       "3                  NO_MATCH                      sentiment_router     INTENT   \n",
       "4                  NO_MATCH                      sentiment_router     INTENT   \n",
       "\n",
       "   confidence parameters_set           detected_intent  \\\n",
       "0    1.000000                 head_intent.order_status   \n",
       "1    0.947959                 head_intent.order_status   \n",
       "2    0.955709                 head_intent.order_status   \n",
       "3    0.841712                 head_intent.order_status   \n",
       "4    0.790275                 head_intent.order_status   \n",
       "\n",
       "                                      agent_display_name description  \\\n",
       "0  [Demo] Multi Demo Extravaganza Part Deux: The Revenge  Demo Tests   \n",
       "1  [Demo] Multi Demo Extravaganza Part Deux: The Revenge  Demo Tests   \n",
       "2  [Demo] Multi Demo Extravaganza Part Deux: The Revenge  Demo Tests   \n",
       "3  [Demo] Multi Demo Extravaganza Part Deux: The Revenge  Demo Tests   \n",
       "4  [Demo] Multi Demo Extravaganza Part Deux: The Revenge  Demo Tests   \n",
       "\n",
       "    input_source  \n",
       "0  input_dataset  \n",
       "1  input_dataset  \n",
       "2  input_dataset  \n",
       "3  input_dataset  \n",
       "4  input_dataset  "
      ]
     },
     "execution_count": 20,
     "metadata": {},
     "output_type": "execute_result"
    }
   ],
   "source": [
    "df.head()"
   ]
  },
  {
   "cell_type": "markdown",
   "metadata": {},
   "source": [
    "# (Option 2) CSV as Input\n",
    "Similar to the above pipeline, except we will process the input data from a CSV file.\n",
    "\n",
    "For the output to local files, you will need to define 2 output destinations:\n",
    "1. An output file for the full detailed results\n",
    "2. An output file for the report summary\n",
    "\n",
    "- `agent_id`, The Dialogflow CX Agent ID.\n",
    "- `input_path`, The local path where your input data lives\n",
    "- `output_summary_path`, The local path where you want the report summary written\n",
    "- `output_results_path`, The local path where you want the full results written\n",
    "\n",
    "You can find a [Sample CSV Dataset here.](https://github.com/GoogleCloudPlatform/dfcx-scrapi/blob/main/data/nlu_evals_sample.csv)"
   ]
  },
  {
   "cell_type": "code",
   "execution_count": 13,
   "metadata": {},
   "outputs": [],
   "source": [
    "agent_id = '<YOUR_AGENT_ID>'\n",
    "\n",
    "input_path = '/path/to/your/input/data.csv'\n",
    "output_summary_path = '/path/to/your/output/summary.csv'\n",
    "output_results_path = '/path/to/your/output/results.csv'"
   ]
  },
  {
   "cell_type": "markdown",
   "metadata": {},
   "source": [
    "## Run NLU Evals\n",
    "\n",
    "There are 3 main stages that happen for the Eval Pipeline:\n",
    "1. Process and validate the input data\n",
    "2. Run the Eval Tests\n",
    "3. Write the output summary and details to a report."
   ]
  },
  {
   "cell_type": "code",
   "execution_count": 14,
   "metadata": {},
   "outputs": [
    {
     "name": "stderr",
     "output_type": "stream",
     "text": [
      "2023-09-11 11:31:51 INFO     ---------- STARTING Evals ----------\n",
      "2023-09-11 11:31:56 WARNING  Text input is too long. Truncating to 256 characters.\n",
      "2023-09-11 11:31:56 WARNING  TRUNCATED TEXT: Why can't I get my bill paid at all online? Why can't I get my bill paid at all online?Why can't I get my bill paid at all online?Why can't I get my bill paid at all online?Why can't I get my bill paid at all online?Why can't I get my bill paid at all onli\n",
      "2023-09-11 11:31:58 INFO     Progress(0/15)[>                                                 ] 0.00%\n",
      "2023-09-11 11:32:08 INFO     Progress(15/15)[------------------------------------------------->] 100.00%\n",
      "2023-09-11 11:32:08 INFO     ---------- Evals COMPLETE ----------\n"
     ]
    }
   ],
   "source": [
    "nlu = NluEvals(agent_id, creds_path=creds_path)\n",
    "\n",
    "df = nlu.process_input_csv(input_path)\n",
    "df = nlu.run_evals(df)\n",
    "nlu.write_summary_to_file(df, output_summary_path)\n",
    "nlu.write_results_to_file(df, output_results_path)"
   ]
  },
  {
   "cell_type": "markdown",
   "metadata": {},
   "source": []
  }
 ],
 "metadata": {
  "kernelspec": {
   "display_name": "scrapi-local",
   "language": "python",
   "name": "python3"
  },
  "language_info": {
   "codemirror_mode": {
    "name": "ipython",
    "version": 3
   },
   "file_extension": ".py",
   "mimetype": "text/x-python",
   "name": "python",
   "nbconvert_exporter": "python",
   "pygments_lexer": "ipython3",
   "version": "3.8.12"
  },
  "orig_nbformat": 4
 },
 "nbformat": 4,
 "nbformat_minor": 2
}
