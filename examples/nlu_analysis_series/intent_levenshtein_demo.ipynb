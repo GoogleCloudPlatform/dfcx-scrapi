{
 "cells": [
  {
   "cell_type": "code",
   "execution_count": null,
   "metadata": {},
   "outputs": [],
   "source": [
    "# Copyright 2023 Google LLC\n",
    "#\n",
    "# Licensed under the Apache License, Version 2.0 (the \"License\");\n",
    "# you may not use this file except in compliance with the License.\n",
    "# You may obtain a copy of the License at\n",
    "#\n",
    "#     https://www.apache.org/licenses/LICENSE-2.0\n",
    "#\n",
    "# Unless required by applicable law or agreed to in writing, software\n",
    "# distributed under the License is distributed on an \"AS IS\" BASIS,\n",
    "# WITHOUT WARRANTIES OR CONDITIONS OF ANY KIND, either express or implied.\n",
    "# See the License for the specific language governing permissions and\n",
    "# limitations under the License."
   ]
  },
  {
   "cell_type": "markdown",
   "metadata": {},
   "source": [
    "# Intent Analysis Using Levenshtein Ratios\n",
    "In this notebook, we will show you how to evaluate the levenshtein ratio between the training phrases of two intents.\n",
    "\n",
    "## Prerequisites\n",
    "- Ensure you have a GCP Service Account key with the Dialogflow API Admin privileges assigned to it."
   ]
  },
  {
   "cell_type": "code",
   "execution_count": null,
   "metadata": {},
   "outputs": [],
   "source": [
    "# If you haven't already, make sure you install the `dfcx-scrapi` library\n",
    "\n",
    "!pip install dfcx-scrapi"
   ]
  },
  {
   "cell_type": "markdown",
   "metadata": {},
   "source": [
    "# Imports"
   ]
  },
  {
   "cell_type": "code",
   "execution_count": null,
   "metadata": {},
   "outputs": [],
   "source": [
    "from dfcx_scrapi.core.intents import Intents\n",
    "from dfcx_scrapi.tools.levenshtein import Levenshtein"
   ]
  },
  {
   "cell_type": "markdown",
   "metadata": {},
   "source": [
    "# User Inputs\n",
    "In the next section, we will collect runtime variables needed to execute this notebook.   \n",
    "This should be the only cell of the notebook you need to edit in order for this notebook to run.\n",
    "\n",
    "Getting an Intent from your existing DFCX agent requires the following information:\n",
    "- `agent_id`, which is your GCP agent ID.\n",
    "- `creds_path`, path to your service account credentials file.\n",
    "- `intent_1`, the Display Name of the Intent to use as your `key`\n",
    "- `intent_2`, the Display Name of the Intent to use as your `comparator`\n",
    "- `threshold`, determines the level of similarity required in order to be included in the output. Default is .75, or 75% similar."
   ]
  },
  {
   "cell_type": "code",
   "execution_count": null,
   "metadata": {},
   "outputs": [],
   "source": [
    "creds_path = '<YOUR_CREDS_FILE>'\n",
    "agent_id = '<YOUR_AGENT_ID>'\n",
    "intent_1 = 'My Key Intent 1'\n",
    "intent_2 = 'My Comparator Intent 2'\n",
    "threshold = 0.75"
   ]
  },
  {
   "cell_type": "markdown",
   "metadata": {},
   "source": [
    "# Extract Intents from Agent\n",
    "First, we will instantiate an Intents class object using `creds_path`.\n",
    "\n",
    "We can use the UUID or human-readable name to find and\n",
    "reference the intents you wish to analyze.   \n",
    "In this example, we are extracting all intents\n",
    "associated with our agent, using the pre-defined Intent human-readable names to \n",
    "pinpoint the specific Intents we wish to compare."
   ]
  },
  {
   "cell_type": "code",
   "execution_count": null,
   "metadata": {},
   "outputs": [],
   "source": [
    "i = Intents(creds_path)\n",
    "intentsMap = i.get_intents_map(agent_id=agent_id, reverse=True)\n",
    "intent1 = i.get_intent(intentsMap[intent_1])\n",
    "intent2 = i.get_intent(intentsMap[intent_2])"
   ]
  },
  {
   "cell_type": "markdown",
   "metadata": {},
   "source": [
    "# Invoke Analysis Tool\n",
    "Next, we will run our analysis tool which will start calculating the distances between Training Phrases in the Intents.  \n",
    "The caluclations is based on [Levenshtein Ratio and Distance](https://en.wikipedia.org/wiki/Levenshtein_distance) which you can read more about in the link provided.\n",
    "\n",
    "The difference between `intent_key` and `intent_comparator` is in the structure of the output.\n",
    "- `intent_key` will serve as a unique key in the object that is returned.\n",
    "- `intent_comparator` may appear multiple times, as each key can reference every comparator with a similarity ratio over the designated threshold.\n",
    "- In other words, there is a one-to-many relationship between `intent_key` and `intent_comparator`.\n",
    "\n",
    "_NOTE - This process may take a while (~ 5-15 minutes) especially for larger intents._"
   ]
  },
  {
   "cell_type": "code",
   "execution_count": null,
   "metadata": {},
   "outputs": [],
   "source": [
    "th = threshold\n",
    "\n",
    "result = Levenshtein.calc_tp_distances(intent_key=intent1, intent_comparator=intent2, threshold=th, silent=False)"
   ]
  },
  {
   "cell_type": "markdown",
   "metadata": {},
   "source": [
    "# Final Thoughts and Wrap-Up\n",
    "That's it!   \n",
    "If you didn't designate `silent=True` as one of your args (and assuming you can see the command terminal associated with the execution), you should be able to see a percentage of completion ticking away.\n",
    "\n",
    "Once complete, `calc_tp_distances` will return a Dictionary object of the following format:\n",
    "\n",
    "\n",
    "```py\n",
    "{   \n",
    "    'stats': {   \n",
    "        'comparators': {   \n",
    "            'num_overlap': int,\n",
    "            'percent_overlap': str,\n",
    "            'total:': int\n",
    "            },\n",
    "        'keys': {   \n",
    "            'num_overlap': int,\n",
    "            'percent_overlap': str,\n",
    "            'total:': int\n",
    "            }\n",
    "        },\n",
    "    'distances': {   \n",
    "        'tp 1 from intent 1 as str': {'tp from intent 2 as str': float, 'tp from intent 2 as str': float, 'tp from intent 2 as str': float, ...},\n",
    "        'tp 2 from intent 1 as str': {'tp from intent 2 as str': float, 'tp from intent 2 as str': float, 'tp from intent 2 as str': float, ...},\n",
    "        ...\n",
    "        'tp n from intent 1 as str': {'tp from intent 2 as str': float, 'tp from intent 2 as str': float, 'tp from intent 2 as str': float, ...},  \n",
    "    }\n",
    "}\n",
    "```\n",
    "\n",
    "Here is some additional information on each of the returned keys and values:\n",
    "- `stats`: basic statistics about the results.\n",
    "  - `comparators`: statistics about the comparator training phrases:\n",
    "    - `num_overlap`: Number of comparators found to be equal or more similar than the specified threshold. Note that this number can exceed the total number of tps in the comparator, as each key maps to as many training phrases as are similar.\n",
    "    - `percent_overlap`: Percentage of comparators with a similarity to other intents. 100% means every single comparator was found to be similar to every single key. Generally speaking, this value should be very low.\n",
    "    - `total`: Total number of comparators.\n",
    "  - `keys`: statistics about the key training phrases:\n",
    "    - `num_overlap`: Number of keys found to be equally or more similar than the specified threshold. Whether a key has 1 similar comparator or 100 does not change the value of this parameter, it simply checks whether a key has any associated comparators.\n",
    "    - `percent_overlap`: Percentage of keys with an associated comparator above the designated threshold. This value does not account for the number of comparators, only for whether at least one exists.\n",
    "    - `total`: Total number of keys.\n",
    "- `distances`: a list of Dictionaries where each training phrase from the key intent serves as the key. The value associated with each key is a Dictionary containing a list of comparator intents and their associated similarity ratio."
   ]
  },
  {
   "cell_type": "markdown",
   "metadata": {},
   "source": [
    "# Example Output:"
   ]
  },
  {
   "cell_type": "raw",
   "metadata": {},
   "source": [
    "{\n",
    "  'stats': {\n",
    "    'comparators': {\n",
    "      'num_overlap': 11,\n",
    "      'percent_overlap': '9.821%',\n",
    "      'total:': 112\n",
    "    },\n",
    "    'keys': {\n",
    "      'num_overlap': 5,\n",
    "      'percent_overlap': '62.5%',\n",
    "      'total:': 8\n",
    "    }\n",
    "  },\n",
    "  'distances': {\n",
    "    'Boo, apples!': {\n",
    "      'Boo apples, I say.': 0.667\n",
    "    },\n",
    "    'Hurray for bananas!': {\n",
    "      \"Don't hurray the banana, people\": 0.52,\n",
    "      'Hurray banana... jk': 0.684,\n",
    "      'Hurray bananas indeed!': 0.732\n",
    "    },\n",
    "    'I am fine thank you': {},\n",
    "    'look at me': {\n",
    "      'Look at you': 0.667,\n",
    "      'look at spree': 0.783,\n",
    "      'look at thee': 0.818\n",
    "    },\n",
    "    'one two three': {\n",
    "      'look at spree': 0.538,\n",
    "      'look at thee': 0.64,\n",
    "      'one too three': 0.923\n",
    "    }\n",
    "  }\n",
    "}"
   ]
  },
  {
   "cell_type": "code",
   "execution_count": null,
   "metadata": {},
   "outputs": [],
   "source": []
  }
 ],
 "metadata": {
  "environment": {
   "name": "common-cpu.m73",
   "type": "gcloud",
   "uri": "gcr.io/deeplearning-platform-release/base-cpu:m73"
  },
  "kernelspec": {
   "display_name": "Python 3.9.6 64-bit",
   "language": "python",
   "name": "python3"
  },
  "language_info": {
   "codemirror_mode": {
    "name": "ipython",
    "version": 3
   },
   "file_extension": ".py",
   "mimetype": "text/x-python",
   "name": "python",
   "nbconvert_exporter": "python",
   "pygments_lexer": "ipython3",
   "version": "3.9.6"
  },
  "vscode": {
   "interpreter": {
    "hash": "31f2aee4e71d21fbe5cf8b01ff0e069b9275f58929596ceb00d14d90e3e16cd6"
   }
  }
 },
 "nbformat": 4,
 "nbformat_minor": 5
}
