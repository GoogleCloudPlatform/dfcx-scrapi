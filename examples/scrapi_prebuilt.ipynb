{
 "cells": [
  {
   "cell_type": "code",
   "execution_count": null,
   "metadata": {},
   "outputs": [],
   "source": [
    "# Copyright 2023 Google LLC\n",
    "#\n",
    "# Licensed under the Apache License, Version 2.0 (the \"License\");\n",
    "# you may not use this file except in compliance with the License.\n",
    "# You may obtain a copy of the License at\n",
    "#\n",
    "#     https://www.apache.org/licenses/LICENSE-2.0\n",
    "#\n",
    "# Unless required by applicable law or agreed to in writing, software\n",
    "# distributed under the License is distributed on an \"AS IS\" BASIS,\n",
    "# WITHOUT WARRANTIES OR CONDITIONS OF ANY KIND, either express or implied.\n",
    "# See the License for the specific language governing permissions and\n",
    "# limitations under the License."
   ]
  },
  {
   "cell_type": "markdown",
   "metadata": {},
   "source": [
    "# SCRAPI Prebuilt Development Notebook\n",
    "In this notebook, we provide a launching point for developement on any Dialogflow CX Agent.\n",
    "\n",
    "We will show you how to load all of the Agent Resources so that you can begin development on any area of your Agent.  \n",
    "The motivation behind this notebook is to provide a checkpoint for you to start any DFCX development or scripting project.\n",
    "\n",
    "## Prerequisites\n",
    "- Ensure you have a GCP Service Account key with the following privileges assigned to it, based on your needs:\n",
    "  - Dialogflow API Reader, use this permission level if you are just exploring the Dialogflow CX resources and developing offline\n",
    "  - Dialogflow API Admin, use this permissions level if you are planning to Read/Write to your Dialogflow CX Agent and/or resources"
   ]
  },
  {
   "cell_type": "code",
   "execution_count": 3,
   "metadata": {},
   "outputs": [],
   "source": [
    "# If you haven't already, make sure you install the `dfcx-scrapi` library\n",
    "\n",
    "!pip install dfcx-scrapi --quiet"
   ]
  },
  {
   "cell_type": "markdown",
   "metadata": {},
   "source": [
    "# Imports\n",
    "During import, Colab will ask you to auth with your Google credentials.  \n",
    "The creds are used to access Google Sheets where your training data lives."
   ]
  },
  {
   "cell_type": "code",
   "execution_count": 4,
   "metadata": {},
   "outputs": [],
   "source": [
    "import os\n",
    "import time\n",
    "\n",
    "import numpy as np\n",
    "import pandas as pd\n",
    "\n",
    "from dfcx_scrapi.core.agents import Agents\n",
    "from dfcx_scrapi.core.flows import Flows\n",
    "from dfcx_scrapi.core.intents import Intents\n",
    "from dfcx_scrapi.core.pages import Pages\n",
    "from dfcx_scrapi.core.webhooks import Webhooks\n",
    "from dfcx_scrapi.core.entity_types import EntityTypes\n",
    "from dfcx_scrapi.core.environments import Environments\n",
    "from dfcx_scrapi.core.transition_route_groups import TransitionRouteGroups\n",
    "from dfcx_scrapi.tools.dataframe_functions import DataframeFunctions\n",
    "\n",
    "from google.cloud.dialogflowcx_v3beta1 import types\n",
    "\n",
    "## -- Uncomment the below section if you want to auth with Google Drive -- ##\n",
    "# from google.colab import auth\n",
    "# from google.auth import default\n",
    "\n",
    "# # Mount your Google Drive.\n",
    "# from google.colab import drive\n",
    "# drive.mount(\"/content/drive\")"
   ]
  },
  {
   "cell_type": "markdown",
   "metadata": {},
   "source": [
    "# User Inputs\n",
    "In the next section, we will collect runtime variables needed to execute this notebook.   \n",
    "This should be the only cell of the notebook you need to edit in order for this notebook to run.\n",
    "\n",
    "Getting an the training phrsaes data from your existing DFCX agent requires the following information:\n",
    "- `creds_path`, path to your service account credentials file.\n",
    "- `project_id`, your GCP project ID\n",
    "- `agent_display_name`, the display name of your Dialogflow CX Agent\n",
    "- `gcp_region`, (Optional) the GCP Region your Dialogflow CX Agent resides in\n",
    "- `gcs_bucket_uri`, (Optional) a GCS bucket used to store data for your Dialogflow CX Agent"
   ]
  },
  {
   "cell_type": "code",
   "execution_count": 11,
   "metadata": {},
   "outputs": [],
   "source": [
    "creds_path = \"<YOUR_CREDS_PATH_HERE>\"\n",
    "project_id = \"<YOUR_GCP_PROJECT_ID>\"\n",
    "agent_display_name = \"<YOUR_AGENT_DISPLAY_NAME>\"\n",
    "gcp_region = \"<GCP_REGION>\" # Optional\n",
    "gcs_bucket_uri = \"<GCS_BUCKET_URI>\" # Optional\n",
    "\n",
    "os.environ[\"GOOGLE_APPLICATION_CREDENTIALS\"] = creds_path"
   ]
  },
  {
   "cell_type": "markdown",
   "metadata": {},
   "source": [
    "# Load Agent\n",
    "First, we will instantiate our core classes."
   ]
  },
  {
   "cell_type": "code",
   "execution_count": 12,
   "metadata": {},
   "outputs": [
    {
     "name": "stderr",
     "output_type": "stream",
     "text": [
      "2022-09-29 15:01:46 INFO     create dfcx creds /Users/pmarlow/eng/creds/nj-pods-dev-pmarlow.json\n"
     ]
    }
   ],
   "source": [
    "# Instantiate the core classes\n",
    "agents_instance = Agents(creds_path=creds_path)\n",
    "flows_instance = Flows(creds_path=creds_path)\n",
    "intents_instance = Intents(creds_path=creds_path)\n",
    "pages_instance = Pages(creds_path=creds_path)\n",
    "entity_types_instance = EntityTypes(creds_path=creds_path)\n",
    "webhooks_instance = Webhooks(creds_path=creds_path)\n",
    "environments_instance = Environments(creds_path=creds_path)\n",
    "route_groups_instance = TransitionRouteGroups(creds_path=creds_path)\n",
    "\n",
    "# Instantiate the tools classes\n",
    "dffx_instance = DataframeFunctions(creds_path=creds_path)\n",
    "\n",
    "# Get the Agent and its ID\n",
    "my_agent = agents_instance.get_agent_by_display_name(\n",
    "    project_id=project_id, display_name=agent_display_name\n",
    ")\n",
    "\n",
    "agent_id = my_agent.name"
   ]
  },
  {
   "cell_type": "markdown",
   "id": "46f6ac36",
   "metadata": {},
   "source": [
    "# Load Agent Components\n",
    "In this section, we'll load up all of the various Agent Resource components like Intents, Flows, Pages, etc."
   ]
  },
  {
   "cell_type": "markdown",
   "id": "92f80f60",
   "metadata": {},
   "source": [
    "## Load Flows and Pages"
   ]
  },
  {
   "cell_type": "code",
   "execution_count": 15,
   "id": "3ff7d2a7",
   "metadata": {},
   "outputs": [],
   "source": [
    "# Load the flows\n",
    "all_flows = flows_instance.list_flows(agent_id=agent_id)\n",
    "\n",
    "flows_map = flows_instance.get_flows_map(agent_id=agent_id)\n",
    "flows_map_reverse = flows_instance.get_flows_map(\n",
    "    agent_id=agent_id, reverse=True\n",
    ")\n",
    "\n",
    "# Load the pages\n",
    "all_pages_per_flow = {}\n",
    "\n",
    "pages_map_per_flow = {}\n",
    "pages_map_per_flow_reverse = {}\n",
    "\n",
    "for flow_name, flow_id in flows_map_reverse.items():\n",
    "    all_pages_per_flow[flow_name] = pages_instance.list_pages(flow_id=flow_id)\n",
    "    time.sleep(1)\n",
    "    \n",
    "    pages_map_per_flow[flow_name] = pages_instance.get_pages_map(\n",
    "        flow_id=flow_id\n",
    "    )\n",
    "    time.sleep(1)\n",
    "    pages_map_per_flow_reverse[flow_name] = pages_instance.get_pages_map(\n",
    "        flow_id=flow_id, reverse=True\n",
    "    )"
   ]
  },
  {
   "cell_type": "markdown",
   "id": "e1b9d427",
   "metadata": {},
   "source": [
    "## Load Intents and Entity Types"
   ]
  },
  {
   "cell_type": "code",
   "execution_count": 16,
   "id": "0b75f1eb",
   "metadata": {},
   "outputs": [],
   "source": [
    "# Load the intents\n",
    "all_intents = intents_instance.list_intents(agent_id=agent_id)\n",
    "\n",
    "intents_map = intents_instance.get_intents_map(agent_id=agent_id)\n",
    "intents_map_reverse = intents_instance.get_intents_map(\n",
    "    agent_id=agent_id, reverse=True\n",
    ")\n",
    "\n",
    "# Load the entity types\n",
    "all_entity_types = entity_types_instance.list_entity_types(agent_id=agent_id)\n",
    "\n",
    "entity_types_map = entity_types_instance.get_entities_map(agent_id=agent_id)\n",
    "entity_types_map_reverse = entity_types_instance.get_entities_map(\n",
    "    agent_id=agent_id, reverse=True\n",
    ")"
   ]
  },
  {
   "cell_type": "markdown",
   "id": "32165dbe",
   "metadata": {},
   "source": [
    "## Load Webhooks, Environments, and Transition Route Groups"
   ]
  },
  {
   "cell_type": "code",
   "execution_count": 17,
   "id": "ead728ad",
   "metadata": {},
   "outputs": [],
   "source": [
    "# Load the webhooks\n",
    "all_webhooks = webhooks_instance.list_webhooks(agent_id=agent_id)\n",
    "\n",
    "webhooks_map = webhooks_instance.get_webhooks_map(agent_id=agent_id)\n",
    "webhooks_map_reverse = webhooks_instance.get_webhooks_map(\n",
    "    agent_id=agent_id, reverse=True\n",
    ")\n",
    "\n",
    "# Load the environments\n",
    "all_environments = environments_instance.list_environments(agent_id=agent_id)\n",
    "\n",
    "environments_map = environments_instance.get_environments_map(agent_id=agent_id)\n",
    "environments_map_reverse = environments_instance.get_environments_map(\n",
    "    agent_id=agent_id, reverse=True\n",
    ")\n",
    "\n",
    "# Load the transition route groups\n",
    "all_route_groups_per_flow = {}\n",
    "\n",
    "route_groups_map_per_flow = {}\n",
    "route_groups_map_per_flow_reverse = {}\n",
    "\n",
    "for flow_name, flow_id in flows_map_reverse.items():\n",
    "    route_groups_list = route_groups_instance.list_transition_route_groups(\n",
    "        flow_id=flow_id\n",
    "    )\n",
    "    all_route_groups_per_flow[flow_name] = route_groups_list\n",
    "    time.sleep(1)\n",
    "    \n",
    "    route_groups_map = route_groups_instance.get_route_groups_map(\n",
    "        flow_id=flow_id\n",
    "    )\n",
    "    route_groups_map_per_flow[flow_name] = route_groups_map\n",
    "    time.sleep(1)\n",
    "    route_groups_map_reverse = route_groups_instance.get_route_groups_map(\n",
    "        flow_id=flow_id, reverse=True\n",
    "    )\n",
    "    route_groups_map_per_flow_reverse[flow_name] = route_groups_map_reverse"
   ]
  },
  {
   "cell_type": "markdown",
   "id": "9c9ac065",
   "metadata": {},
   "source": [
    "# Start Coding!\n",
    "Now that we have all of our Agent Resources loaded, you can start exploring them in many ways below.  "
   ]
  },
  {
   "cell_type": "code",
   "execution_count": 18,
   "id": "a673c39a",
   "metadata": {},
   "outputs": [],
   "source": [
    "# < - - Amazing Code Goes Here! -- > "
   ]
  },
  {
   "cell_type": "markdown",
   "metadata": {},
   "source": [
    "# Final Thoughts and Wrap-Up\n",
    "In this notebook, we've provided a quick start template to load all of your Dialogflow CX Agent Resources so you can start exploring, scripting, and building prodution level bots!\n",
    "\n",
    "Feel free to import more classes and try them too!  \n",
    "We suggest checking out the `tools/` directory for other great things you can do with SCRAPI!\n",
    "\n",
    "Happy Coding!"
   ]
  }
 ],
 "metadata": {
  "environment": {
   "name": "common-cpu.m73",
   "type": "gcloud",
   "uri": "gcr.io/deeplearning-platform-release/base-cpu:m73"
  },
  "kernelspec": {
   "display_name": "Python 3.8.12 ('scrapi-local')",
   "language": "python",
   "name": "python3"
  },
  "language_info": {
   "codemirror_mode": {
    "name": "ipython",
    "version": 3
   },
   "file_extension": ".py",
   "mimetype": "text/x-python",
   "name": "python",
   "nbconvert_exporter": "python",
   "pygments_lexer": "ipython3",
   "version": "3.8.12"
  },
  "vscode": {
   "interpreter": {
    "hash": "7413f51bec3c978f0622000f59fce9c6157925f7fef8079c4a26e2f8ecdaa214"
   }
  }
 },
 "nbformat": 4,
 "nbformat_minor": 5
}
