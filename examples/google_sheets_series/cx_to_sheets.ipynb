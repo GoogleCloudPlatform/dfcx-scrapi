{
 "cells": [
  {
   "cell_type": "code",
   "execution_count": null,
   "source": [
    "# Copyright 2021 Google LLC\n",
    "#\n",
    "# Licensed under the Apache License, Version 2.0 (the \"License\");\n",
    "# you may not use this file except in compliance with the License.\n",
    "# You may obtain a copy of the License at\n",
    "#\n",
    "#     https://www.apache.org/licenses/LICENSE-2.0\n",
    "#\n",
    "# Unless required by applicable law or agreed to in writing, software\n",
    "# distributed under the License is distributed on an \"AS IS\" BASIS,\n",
    "# WITHOUT WARRANTIES OR CONDITIONS OF ANY KIND, either express or implied.\n",
    "# See the License for the specific language governing permissions and\n",
    "# limitations under the License."
   ],
   "outputs": [],
   "metadata": {}
  },
  {
   "cell_type": "markdown",
   "source": [
    "# Introduction\n",
    "In this notebook, we will demonstrate how Google Sheets can be used as a simple medium for managing, updating, and evaluating Intents and Training Phrases in Dialogflow CX.\n",
    "\n",
    "Specifically, we will show how to extract Intents and Training Phrases from Dialogflow CX to Google Sheets.\n",
    "\n",
    "## Prerequisites\n",
    "- Ensure you have a GCP Service Account key with the Dialogflow API Admin privileges assigned to it"
   ],
   "metadata": {}
  },
  {
   "cell_type": "code",
   "execution_count": null,
   "source": [
    "#If you haven't already, make sure you install the `dfcx-scrapi` library\n",
    "\n",
    "!pip install dfcx-scrapi"
   ],
   "outputs": [],
   "metadata": {}
  },
  {
   "cell_type": "markdown",
   "source": [
    "# Imports"
   ],
   "metadata": {}
  },
  {
   "cell_type": "code",
   "execution_count": null,
   "source": [
    "from dfcx_scrapi.core.intents import Intents\n",
    "from dfcx_scrapi.tools.dataframe_functions import DataframeFunctions"
   ],
   "outputs": [],
   "metadata": {}
  },
  {
   "cell_type": "markdown",
   "source": [
    "# User Inputs\n",
    "In the next section, we will collect runtime variables needed to execute this notebook.   \n",
    "This should be the only cell of the notebook you need to edit in order for this notebook to run.\n",
    "\n",
    "For this notebook, we'll need the following inputs:\n",
    "\n",
    "- `creds_path`: Your local path to your GCP Service Account Credentials\n",
    "- `agent_id`: Your Dialogflow CX Agent ID in String format\n",
    "- `google_sheet_name`: The name of your Google Sheet\n",
    "- `google_sheet_tab_write`:  The name of the tab in your Google Sheet where the data will be written"
   ],
   "metadata": {}
  },
  {
   "cell_type": "code",
   "execution_count": null,
   "source": [
    "creds_path = '<YOUR_CREDS_PATH_HERE>'\n",
    "agent_id = '<YOUR_AGENT_ID_HERE>'\n",
    "google_sheet_name = 'My Google Sheet Name'\n",
    "google_sheet_tab_write = 'Write To My Tab Name'"
   ],
   "outputs": [],
   "metadata": {}
  },
  {
   "cell_type": "markdown",
   "source": [
    "# CX to Sheets\n",
    "Here, we'll demonstrate how to extract all of the Intents and Training Phrases from your Dialogflow CX Agent and push them to a Google Sheet.\n",
    "\n",
    "## Prerequisites\n",
    "- In order for the `DataframeFunctions` class to interact with Google Sheets, you *must* share your Google Sheet with your Service Account email address."
   ],
   "metadata": {}
  },
  {
   "cell_type": "code",
   "execution_count": null,
   "source": [
    "# Instanstiate Classes\n",
    "intents = Intents(creds_path)\n",
    "dffx = DataframeFunctions(creds_path)\n",
    "\n",
    "# Transform Intents into a DataFrame\n",
    "df = intents.bulk_intent_to_df(agent_id)\n",
    "\n",
    "# Push DataFrame to Google Sheets\n",
    "dffx.dataframe_to_sheets(google_sheet_name, google_sheet_tab_write, df)\n",
    "\n",
    "print('Total # of Intents = {}'.format(df.intent.nunique()))\n",
    "print('Total # of Training Phrases = {}'.format(df.tp.nunique()))"
   ],
   "outputs": [],
   "metadata": {}
  },
  {
   "cell_type": "markdown",
   "source": [
    "# Final Thoughts and Wrap-Up\n",
    "You should see your Google Sheet is now updated with all of the Intents and Training Phrases from your Dialogflow CX Agent.\n",
    "\n",
    "If you want to filter the data before pushing it to Google Sheets, you can manipulate the `df` variable to do things like: \n",
    "- Exclude 1 or more Intents\n",
    "- Push Intents that contain > X # of Training Phrases to Tab A\n",
    "- Push Intents that contain < Y # of Training Phrases to Tab B"
   ],
   "metadata": {}
  },
  {
   "cell_type": "markdown",
   "source": [],
   "metadata": {}
  }
 ],
 "metadata": {
  "orig_nbformat": 4,
  "language_info": {
   "name": "python",
   "version": "3.8.10",
   "mimetype": "text/x-python",
   "codemirror_mode": {
    "name": "ipython",
    "version": 3
   },
   "pygments_lexer": "ipython3",
   "nbconvert_exporter": "python",
   "file_extension": ".py"
  },
  "kernelspec": {
   "name": "python3",
   "display_name": "Python 3.8.10 64-bit ('scrapi': conda)"
  },
  "interpreter": {
   "hash": "a46639dc4ce59764707f7d29e7ddf4b543fd040f828fe9a3cb5baeb9324df219"
  }
 },
 "nbformat": 4,
 "nbformat_minor": 2
}