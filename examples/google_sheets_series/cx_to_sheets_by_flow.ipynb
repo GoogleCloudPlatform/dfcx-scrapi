{
 "cells": [
  {
   "cell_type": "code",
   "execution_count": null,
   "metadata": {},
   "outputs": [],
   "source": [
    "# Copyright 2023 Google LLC\n",
    "#\n",
    "# Licensed under the Apache License, Version 2.0 (the \"License\");\n",
    "# you may not use this file except in compliance with the License.\n",
    "# You may obtain a copy of the License at\n",
    "#\n",
    "#     https://www.apache.org/licenses/LICENSE-2.0\n",
    "#\n",
    "# Unless required by applicable law or agreed to in writing, software\n",
    "# distributed under the License is distributed on an \"AS IS\" BASIS,\n",
    "# WITHOUT WARRANTIES OR CONDITIONS OF ANY KIND, either express or implied.\n",
    "# See the License for the specific language governing permissions and\n",
    "# limitations under the License."
   ]
  },
  {
   "cell_type": "markdown",
   "metadata": {},
   "source": [
    "# Introduction\n",
    "In this notebook, we will demonstrate how Google Sheets can be used as a simple medium for managing, updating, and evaluating Intents and Training Phrases in Dialogflow CX.\n",
    "\n",
    "Specifically, we will show how to `update` **_Existing Intents_** and Training Phrases in Dialogflow CX using Google Sheets as a Source\n",
    "\n",
    "## Prerequisites\n",
    "- Ensure you have a GCP Service Account key with the Dialogflow API Admin privileges assigned to it"
   ]
  },
  {
   "cell_type": "code",
   "execution_count": null,
   "metadata": {},
   "outputs": [],
   "source": [
    "#If you haven't already, make sure you install the `dfcx-scrapi` library\n",
    "\n",
    "!pip install dfcx-scrapi"
   ]
  },
  {
   "cell_type": "markdown",
   "metadata": {},
   "source": [
    "# Imports"
   ]
  },
  {
   "cell_type": "code",
   "execution_count": null,
   "metadata": {},
   "outputs": [],
   "source": [
    "import pandas as pd\n",
    "from dfcx_scrapi.tools.copy_util import CopyUtil\n",
    "from dfcx_scrapi.tools.dataframe_functions import DataframeFunctions"
   ]
  },
  {
   "cell_type": "markdown",
   "metadata": {},
   "source": [
    "# User Inputs\n",
    "In the next section, we will collect runtime variables needed to execute this notebook.   \n",
    "This should be the only cell of the notebook you need to edit in order for this notebook to run.\n",
    "\n",
    "For this notebook, we'll need the following inputs:\n",
    "\n",
    "- `creds_path`: Your local path to your GCP Service Account Credentials\n",
    "- `agent_id`: Your Dialogflow CX Agent ID in String format\n",
    "- `google_sheet_name`: The name of your Google Sheet\n",
    "- `google_sheet_tab_read`:  The name of the tab in your Google Sheet to read the data from"
   ]
  },
  {
   "cell_type": "code",
   "execution_count": null,
   "metadata": {},
   "outputs": [],
   "source": [
    "creds_path = '<YOUR_CREDS_PATH_HERE>'\n",
    "agent_id = '<YOUR_AGENT_ID_HERE>'\n",
    "flow = '<YOUR_FLOW_DISPLAY_NAME>'\n",
    "google_sheet_name = 'My Google Sheet Name'\n",
    "google_sheet_tab_write = 'Write To My Tab Name'"
   ]
  },
  {
   "cell_type": "markdown",
   "metadata": {},
   "source": [
    "# CX to Sheets - Filtered by Intents in Scope of a Flow\n",
    "Here, we will demonstrate how to extract all of the Intents and Training Phrases associated with a specific `Flow` inside of a Dialogflow CX Agent.\n",
    "\n",
    "In our previous notebook example, we extracted _ALL_ of the Intents and Training Phrases associated with the Agent.   \n",
    "But in some cases, you may only be interested in Intents that are _currently in use_ with `Flow A` or `Flow B`.   \n",
    "The following code allows you to easily extract that information and move it to a Google Sheet for review.\n",
    "\n",
    "## Prerequisites\n",
    "- In order for the `DataframeFunctions` class to interact with Google Sheets, you *must* share your Google Sheet with your Service Account email address."
   ]
  },
  {
   "cell_type": "code",
   "execution_count": null,
   "metadata": {},
   "outputs": [],
   "source": [
    "cu = CopyUtil(creds_path=creds_path, agent_id=agent_id)\n",
    "dffx = DataframeFunctions(creds_path)\n",
    "\n",
    "flow_map = cu.flows.get_flows_map(reverse=True)\n",
    "pages = cu.pages.list_pages(flow_map[flow])\n",
    "resources = cu.get_page_dependencies(pages)\n",
    "\n",
    "for key in resources.keys():\n",
    "    if key == 'intents':\n",
    "        intent_list = list(resources[key])\n",
    "        \n",
    "all_intents = cu.intents.list_intents()\n",
    "\n",
    "final_intents = []\n",
    "for intent in all_intents:\n",
    "    if intent.name in intent_list:\n",
    "        final_intents.append(intent)\n",
    "\n",
    "df = pd.DataFrame()\n",
    "\n",
    "for intent in final_intents:\n",
    "    df = df.append(cu.intents.intent_proto_to_dataframe(intent))\n",
    "\n",
    "# Push DataFrame to Google Sheets\n",
    "dffx.dataframe_to_sheets(google_sheet_name, google_sheet_tab_write, df)\n",
    "\n",
    "print('Total # of Intents = {}'.format(df.intent.nunique()))\n",
    "print('Total # of Training Phrases = {}'.format(df.tp.nunique()))"
   ]
  },
  {
   "cell_type": "markdown",
   "metadata": {},
   "source": [
    "# Final Thoughts and Wrap-Up\n",
    "You should see your Google Sheet is now updated with the Intents and Training Phrases from your Dialogflow CX Agent that are in scope of the `Flow` that you specified.\n",
    "\n",
    "If you want to create _additional_ filters before pushing the data to Google Sheets, you can manipulate the `df` variable to do things like: \n",
    "- Exclude 1 or more Intents\n",
    "- Push Intents that contain > X # of Training Phrases to Tab A\n",
    "- Push Intents that contain < Y # of Training Phrases to Tab B"
   ]
  },
  {
   "cell_type": "markdown",
   "metadata": {},
   "source": []
  }
 ],
 "metadata": {
  "interpreter": {
   "hash": "a46639dc4ce59764707f7d29e7ddf4b543fd040f828fe9a3cb5baeb9324df219"
  },
  "kernelspec": {
   "display_name": "Python 3.8.10 64-bit ('scrapi': conda)",
   "name": "python3"
  },
  "language_info": {
   "codemirror_mode": {
    "name": "ipython",
    "version": 3
   },
   "file_extension": ".py",
   "mimetype": "text/x-python",
   "name": "python",
   "nbconvert_exporter": "python",
   "pygments_lexer": "ipython3",
   "version": "3.8.10"
  },
  "orig_nbformat": 4
 },
 "nbformat": 4,
 "nbformat_minor": 2
}
