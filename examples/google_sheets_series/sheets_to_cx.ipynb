{
 "metadata": {
  "language_info": {
   "codemirror_mode": {
    "name": "ipython",
    "version": 3
   },
   "file_extension": ".py",
   "mimetype": "text/x-python",
   "name": "python",
   "nbconvert_exporter": "python",
   "pygments_lexer": "ipython3",
   "version": "3.8.10"
  },
  "orig_nbformat": 2,
  "kernelspec": {
   "name": "python3",
   "display_name": "Python 3.8.10 64-bit ('scrapi': conda)"
  },
  "metadata": {
   "interpreter": {
    "hash": "547aa68a3b05ceb5ef445141f7d93a53d8c7bfd6e879bc63089b49209d101e50"
   }
  },
  "interpreter": {
   "hash": "a46639dc4ce59764707f7d29e7ddf4b543fd040f828fe9a3cb5baeb9324df219"
  }
 },
 "nbformat": 4,
 "nbformat_minor": 2,
 "cells": [
  {
   "cell_type": "code",
   "execution_count": null,
   "source": [
    "# Copyright 2021 Google LLC\n",
    "#\n",
    "# Licensed under the Apache License, Version 2.0 (the \"License\");\n",
    "# you may not use this file except in compliance with the License.\n",
    "# You may obtain a copy of the License at\n",
    "#\n",
    "#     https://www.apache.org/licenses/LICENSE-2.0\n",
    "#\n",
    "# Unless required by applicable law or agreed to in writing, software\n",
    "# distributed under the License is distributed on an \"AS IS\" BASIS,\n",
    "# WITHOUT WARRANTIES OR CONDITIONS OF ANY KIND, either express or implied.\n",
    "# See the License for the specific language governing permissions and\n",
    "# limitations under the License."
   ],
   "outputs": [],
   "metadata": {}
  },
  {
   "cell_type": "markdown",
   "source": [
    "# Introduction\n",
    "In this notebook, we will demonstrate how Google Sheets can be used as a simple medium for managing, updating, and evaluating Intents and Training Phrases in Dialogflow CX.\n",
    "\n",
    "Specifically, we will show how to `update` **_Existing Intents_** and Training Phrases in Dialogflow CX using Google Sheets as a Source\n",
    "\n",
    "## Prerequisites\n",
    "- Ensure you have a GCP Service Account key with the Dialogflow API Admin privileges assigned to it"
   ],
   "metadata": {}
  },
  {
   "cell_type": "code",
   "execution_count": null,
   "source": [
    "#If you haven't already, make sure you install the `dfcx-scrapi` library\n",
    "\n",
    "!pip install dfcx-scrapi"
   ],
   "outputs": [],
   "metadata": {}
  },
  {
   "cell_type": "markdown",
   "source": [
    "# Imports"
   ],
   "metadata": {}
  },
  {
   "cell_type": "code",
   "execution_count": null,
   "source": [
    "from dfcx_scrapi.core.intents import Intents\n",
    "from dfcx_scrapi.tools.dataframe_functions import DataframeFunctions"
   ],
   "outputs": [],
   "metadata": {}
  },
  {
   "cell_type": "markdown",
   "source": [
    "# User Inputs\n",
    "In the next section, we will collect runtime variables needed to execute this notebook.   \n",
    "This should be the only cell of the notebook you need to edit in order for this notebook to run.\n",
    "\n",
    "For this notebook, we'll need the following inputs:\n",
    "\n",
    "- `creds_path`: Your local path to your GCP Service Account Credentials\n",
    "- `agent_id`: Your Dialogflow CX Agent ID in String format\n",
    "- `google_sheet_name`: The name of your Google Sheet\n",
    "- `google_sheet_tab_read`:  The name of the tab in your Google Sheet to read the data from"
   ],
   "metadata": {}
  },
  {
   "cell_type": "code",
   "execution_count": null,
   "source": [
    "creds_path = '<YOUR_CREDS_PATH_HERE>'\n",
    "agent_id = '<YOUR_AGENT_ID_HERE>'\n",
    "google_sheet_name = 'My Google Sheet Name'\n",
    "google_sheet_tab_read = 'Read From My Tab Name'"
   ],
   "outputs": [],
   "metadata": {}
  },
  {
   "cell_type": "markdown",
   "source": [
    "# Sheets to CX\n",
    "Here, we'll demonstrate how to `update` an **_Existing Intent_** in your Dialogflow CX Agent based on data from a Google Sheet.\n",
    "\n",
    "## Prerequisites\n",
    "- In order for the `DataframeFunctions` class to interact with Google Sheets, you *must* share your Google Sheet with your Service Account email address.\n",
    "- For this specific function, you must have exactly 2 columns with the following names:\n",
    "    - `display_name`\n",
    "    - `text`"
   ],
   "metadata": {}
  },
  {
   "cell_type": "code",
   "execution_count": null,
   "source": [
    "dffx = DataframeFunctions(creds_path)\n",
    "\n",
    "df = dffx.sheets_to_dataframe(google_sheet_name, google_sheet_tab_read)\n",
    "dffx.bulk_update_intents_from_dataframe(agent_id, df, update_flag=True, rate_limiter=1)"
   ],
   "outputs": [],
   "metadata": {}
  },
  {
   "cell_type": "markdown",
   "source": [
    "# Final Thoughts and Wrap-Up\n",
    "In this notebook, we demonstrated how to take data from a Google Sheet and update Intent/Training Phrases for an `existing` Intent in Dialogflow CX.\n",
    "\n",
    "There are additional functions that allow you to `create` new Intents, as well as `advanced` methods that allow you to apply Entity Tags to your Training Phrases during the `create` and `update` process.    \n",
    "Explore the follwing methods for more information:\n",
    "- `bulk_update_intents_from_dataframe(mode='advanced')`\n",
    "- `bulk_create_intents_from_dataframe(mode='basic')`\n",
    "- `bulk_create_intents_from_dataframe(mode='advanced')`"
   ],
   "metadata": {}
  },
  {
   "cell_type": "markdown",
   "source": [],
   "metadata": {}
  }
 ]
}