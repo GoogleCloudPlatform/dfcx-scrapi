{
 "cells": [
  {
   "cell_type": "code",
   "execution_count": null,
   "metadata": {},
   "outputs": [],
   "source": [
    "# Copyright 2023 Google LLC\n",
    "#\n",
    "# Licensed under the Apache License, Version 2.0 (the \"License\");\n",
    "# you may not use this file except in compliance with the License.\n",
    "# You may obtain a copy of the License at\n",
    "#\n",
    "#     https://www.apache.org/licenses/LICENSE-2.0\n",
    "#\n",
    "# Unless required by applicable law or agreed to in writing, software\n",
    "# distributed under the License is distributed on an \"AS IS\" BASIS,\n",
    "# WITHOUT WARRANTIES OR CONDITIONS OF ANY KIND, either express or implied.\n",
    "# See the License for the specific language governing permissions and\n",
    "# limitations under the License."
   ]
  },
  {
   "cell_type": "markdown",
   "metadata": {},
   "source": [
    "# Exporting Custom Entities to a Google Sheet\n",
    "In this notebook, we will show you how to extract custom entities and synonyms from a Dialogflow CX Agent to a user specified Google Sheet.\n",
    "\n",
    "## Prerequisites\n",
    "- Ensure you have a GCP Service Account key with the following privileges assigned to it, based on your needs:\n",
    "  - Dialogflow API Reader, use this permission level if you are just exploring the Dialogflow CX resources and developing offline\n",
    "  - Dialogflow API Admin, use this permissions level if you are planning to Read/Write to your Dialogflow CX Agent and/or resources"
   ]
  },
  {
   "cell_type": "code",
   "execution_count": null,
   "metadata": {},
   "outputs": [],
   "source": [
    "# If you haven't already, make sure you install the `dfcx-scrapi` library\n",
    "\n",
    "!pip install dfcx-scrapi --quiet"
   ]
  },
  {
   "cell_type": "markdown",
   "metadata": {},
   "source": [
    "# Imports\n",
    "During import, Colab will ask you to auth with your Google credentials.  \n",
    "The creds are used to access Google Sheets where your training data lives."
   ]
  },
  {
   "cell_type": "code",
   "execution_count": 1,
   "metadata": {},
   "outputs": [],
   "source": [
    "from dfcx_scrapi.core.entity_types import EntityTypes\n",
    "from dfcx_scrapi.tools.dataframe_functions import DataframeFunctions\n",
    "\n",
    "import numpy as np\n",
    "import pandas as pd\n",
    "from typing import List\n",
    "\n",
    "## Below code will auth with Google Drive if you are using a Google Colab environment\n",
    "# from google.colab import auth\n",
    "# from google.auth import default\n",
    "\n",
    "# # Mount your Google Drive.\n",
    "# from google.colab import drive\n",
    "# drive.mount(\"/content/drive\")"
   ]
  },
  {
   "cell_type": "markdown",
   "metadata": {},
   "source": [
    "# User Inputs\n",
    "In the next section, we will collect runtime variables needed to execute this notebook.   \n",
    "This should be the only cell of the notebook you need to edit in order for this notebook to run.\n",
    "\n",
    "Getting an the training phrsaes data from your existing DFCX agent requires the following information:\n",
    "- `creds_path`, path to your service account credentials file.\n",
    "- `agent_id`, your Dialogflow CX Agent ID\n",
    "- `sheet_name`, the display name of your Google Sheet\n",
    "- `worksheet_name`, the display name of your Google Worksheet or tab where you want to write your data\n",
    "- `entity_subset`, (Optional) a List of entity type display names to filter on"
   ]
  },
  {
   "cell_type": "code",
   "execution_count": 2,
   "metadata": {},
   "outputs": [],
   "source": [
    "creds_path = \"<YOUR_CREDS_PATH_HERE>\"\n",
    "agent_id = \"<YOUR_GCP_PROJECT_ID>\"\n",
    "sheet_name = \"<YOUR_GOOGLE_SHEET_NAME>\"\n",
    "worksheet_name = \"<YOUR_GOOGLE_WORKSHEET_NAME>\"\n",
    "entity_subset = []"
   ]
  },
  {
   "cell_type": "markdown",
   "metadata": {},
   "source": [
    "# Extract Custom Entities to Google Sheets\n",
    "Here we will perform the following steps:\n",
    "1. Instantiate our classes\n",
    "2. Get the data from our Dialogflow CX Agent\n",
    "3. Write the data to a Google Sheet"
   ]
  },
  {
   "cell_type": "markdown",
   "id": "f49cd729",
   "metadata": {},
   "source": [
    "### Instantiate Classes"
   ]
  },
  {
   "cell_type": "code",
   "execution_count": 3,
   "metadata": {},
   "outputs": [
    {
     "name": "stderr",
     "output_type": "stream",
     "text": [
      "2022-09-29 15:22:46 INFO     create dfcx creds /Users/pmarlow/eng/creds/nj-pods-dev-pmarlow.json\n"
     ]
    }
   ],
   "source": [
    "# Instantiate the core classes\n",
    "entity_types_instance = EntityTypes(creds_path=creds_path)\n",
    "\n",
    "# Instantiate the tools classes\n",
    "dffx_instance = DataframeFunctions(creds_path=creds_path)"
   ]
  },
  {
   "cell_type": "markdown",
   "id": "b2488b8c",
   "metadata": {},
   "source": [
    "### Get Entity Types from Agent"
   ]
  },
  {
   "cell_type": "code",
   "execution_count": null,
   "id": "58d43eba",
   "metadata": {},
   "outputs": [],
   "source": [
    "df = entity_types_instance.entity_types_to_df(agent_id)\n",
    "df"
   ]
  },
  {
   "cell_type": "markdown",
   "id": "cda86aea",
   "metadata": {},
   "source": [
    "### Write to Google Sheets"
   ]
  },
  {
   "cell_type": "code",
   "execution_count": null,
   "id": "68bbb759",
   "metadata": {},
   "outputs": [],
   "source": [
    "dffx_instance.dataframe_to_sheets(sheet_name, worksheet_name, df)"
   ]
  },
  {
   "cell_type": "markdown",
   "metadata": {},
   "source": [
    "# Final Thoughts and Wrap-Up\n",
    "In this notebook, we've provided the simple steps to Export Custom Entities and Synonyms to a Google Sheet for further review.  \n",
    "\n",
    "These methods can always be modified to push data to other storage formats like CSV, BigQuery, or other database connections.\n",
    "\n",
    "Happy Coding!"
   ]
  },
  {
   "cell_type": "markdown",
   "id": "f93983c0",
   "metadata": {},
   "source": []
  }
 ],
 "metadata": {
  "environment": {
   "name": "common-cpu.m73",
   "type": "gcloud",
   "uri": "gcr.io/deeplearning-platform-release/base-cpu:m73"
  },
  "kernelspec": {
   "display_name": "Python 3.8.12 ('scrapi-local')",
   "language": "python",
   "name": "python3"
  },
  "language_info": {
   "codemirror_mode": {
    "name": "ipython",
    "version": 3
   },
   "file_extension": ".py",
   "mimetype": "text/x-python",
   "name": "python",
   "nbconvert_exporter": "python",
   "pygments_lexer": "ipython3",
   "version": "3.8.12"
  },
  "vscode": {
   "interpreter": {
    "hash": "7413f51bec3c978f0622000f59fce9c6157925f7fef8079c4a26e2f8ecdaa214"
   }
  }
 },
 "nbformat": 4,
 "nbformat_minor": 5
}
