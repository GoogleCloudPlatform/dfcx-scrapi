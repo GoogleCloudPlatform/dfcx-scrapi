{
 "cells": [
  {
   "cell_type": "code",
   "execution_count": null,
   "metadata": {},
   "outputs": [],
   "source": [
    "# Copyright 2023 Google LLC\n",
    "#\n",
    "# Licensed under the Apache License, Version 2.0 (the \"License\");\n",
    "# you may not use this file except in compliance with the License.\n",
    "# You may obtain a copy of the License at\n",
    "#\n",
    "#     https://www.apache.org/licenses/LICENSE-2.0\n",
    "#\n",
    "# Unless required by applicable law or agreed to in writing, software\n",
    "# distributed under the License is distributed on an \"AS IS\" BASIS,\n",
    "# WITHOUT WARRANTIES OR CONDITIONS OF ANY KIND, either express or implied.\n",
    "# See the License for the specific language governing permissions and\n",
    "# limitations under the License."
   ]
  },
  {
   "cell_type": "markdown",
   "metadata": {},
   "source": [
    "# Introduction\n",
    "In this notebook, we will show you how to build a Dialogflow CX Agent from scratch using plain text inputs and a simple CSV file.\n",
    "\n",
    "In this example some of the training phrases will be anotated with the @sys.number entity\n",
    "\n",
    "## Prerequisites\n",
    "- Ensure you have a GCP Service Account key with the Dialogflow API Admin privileges assigned to it."
   ]
  },
  {
   "cell_type": "code",
   "execution_count": null,
   "metadata": {},
   "outputs": [],
   "source": [
    "#If you haven't already, make sure you install the `dfcx-scrapi` library\n",
    "#Link to the GitHub repo: https://github.com/GoogleCloudPlatform/dfcx-scrapi\n",
    "\n",
    "!pip install --user dfcx-scrapi\n",
    "!pip install --user -r ./dfcx-scrapi/requirements.txt"
   ]
  },
  {
   "cell_type": "markdown",
   "metadata": {},
   "source": [
    "# Imports"
   ]
  },
  {
   "cell_type": "code",
   "execution_count": null,
   "metadata": {},
   "outputs": [],
   "source": [
    "import pandas as pd\n",
    "from dfcx_scrapi.core.agents import Agents\n",
    "from dfcx_scrapi.core.intents import Intents\n",
    "from dfcx_scrapi.core.flows import Flows\n",
    "from dfcx_scrapi.core.pages import Pages\n",
    "from dfcx_scrapi.tools.dataframe_functions import DataframeFunctions\n",
    "from dfcx_scrapi.tools.maker_util import MakerUtil\n",
    "\n",
    "#Input here your Service Account Key path\n",
    "creds_path = '/PATH/TO/YOU/KEY.JSON'"
   ]
  },
  {
   "cell_type": "markdown",
   "metadata": {},
   "source": [
    "# Method 1 - Creating an Agent from Simple Text Inputs"
   ]
  },
  {
   "cell_type": "markdown",
   "metadata": {},
   "source": [
    "## Create Your Agent\n",
    "Creating an agent requires a minimum of 2 pieces of information:\n",
    "- `project_id`, which is your GCP Project ID\n",
    "- `display_name`, (i.e. 'My Cool Agent!')\n",
    "- `gcp_region`, (Optional) This defaults to `global` region, but you can provide any GCP region that is currently available for Dialogflow CX."
   ]
  },
  {
   "cell_type": "code",
   "execution_count": null,
   "metadata": {},
   "outputs": [],
   "source": [
    "# First we will instantiate our Agent object\n",
    "a = Agents(creds_path=creds_path)\n",
    "\n",
    "# Next, we will set some variables for our agent creation or retrieval args\n",
    "project_id = '<PROJECT_ID>'\n",
    "display_name = 'My Awesome Agent!'\n",
    "gcp_region = '<GCP_REGION>' #(eg. 'global', 'us-cenral1', etc... See region availability for DFCX at https://cloud.google.com/dialogflow/cx/docs/concept/region\n",
    "\n",
    "# Then we will call the `create_agent` or get_agent method (if agent already exists) and capture the result in a var call `my_agent`\n",
    "#Option 1: If agent does not exist\n",
    "#my_agent = a.create_agent(project_id, display_name, gcp_region)\n",
    "\n",
    "#Option 2: If agent already exists\n",
    "#The agent ID must be entered as a string \"projects/<PROJECT_ID>/locations/<GCP_REGION>/agents/<AGENT_ID>\"\n",
    "my_agent = a.get_agent(\"projects/<PROJECT_ID>/locations/<GCP_REGION>/agents/<AGENT_ID>\")"
   ]
  },
  {
   "cell_type": "markdown",
   "metadata": {},
   "source": [
    "If you inspect your `my_agent` variable, you will see it is of types.agent.Agent"
   ]
  },
  {
   "cell_type": "code",
   "execution_count": null,
   "metadata": {},
   "outputs": [],
   "source": [
    "my_agent"
   ]
  },
  {
   "cell_type": "markdown",
   "metadata": {},
   "source": [
    "## Create Your First Intent\n",
    "For this demo agent, we'll build a basic intent from list of Training Phrases (TPs)\n",
    "\n",
    "To simplify the Intent creation, we'll utilize the `DataframeFunctions` class from the `tools` portion of the SCRAPI library.   \n",
    "This will allow us to build our intent into a simple Pandas DataFrame, and then push this DataFrame directly into our bot that we just created.\n",
    "\n",
    "A common method of building Intents and Training Phrases for Dialogflow CX agents is to use Google Sheets or CSVs to store the Intent/TP data.  \n",
    "For this demo, we are working with annotated training phrases. To do so, we've included \n",
    "* `intent_sample_with_parts.csv` which contains all the training phrases parts. It will be pulled into a dataframe \n",
    "* `intent_sample_params`, that defines the parameters used for each intent. It will also be pulled into a dataframe"
   ]
  },
  {
   "cell_type": "code",
   "execution_count": null,
   "metadata": {},
   "outputs": [],
   "source": [
    "# First, we will instantiate our DataframeFunctions (dffx) object\n",
    "dffx = DataframeFunctions(creds_path=creds_path)\n",
    "\n",
    "# Next, we will read in our sample CSV with Intent training phrases data as well as the entities used into 2 distinct Pandas DataFrames\n",
    "df = pd.read_csv('../../data/intent_sample_with_parts.csv')\n",
    "params_df = pd.read_csv('../../data/intent_sample_params.csv')\n",
    "\n",
    "# Finally, we will use `dffx` to push our Intents to our Agent\n",
    "#If intents do not exist, use bulk_create_intent_from_dataframe\n",
    "my_intents = dffx.bulk_create_intent_from_dataframe(my_agent.name, df, params_df, update_flag=True, mode=\"advanced\")\n",
    "\n",
    "#If intent already exist, use bulk_update_intents_from_dataframe\n",
    "#my_intents = dffx.bulk_update_intents_from_dataframe(my_agent.name, df, params_df, update_flag=True, mode=\"advanced\")"
   ]
  },
  {
   "cell_type": "markdown",
   "metadata": {
    "tags": []
   },
   "source": [
    "# Bot Building 102 End\n",
    "## And there you have it!   \n",
    "We've created a simple Dialogflow CX agent using only Python in a Jupyter notebook.\n",
    "You can see how this could be easily scaled up using .py files, git repos, and other scripts to speed up the bot building process."
   ]
  }
 ],
 "metadata": {
  "environment": {
   "kernel": "conda-env-python38-py",
   "name": "common-cpu.m90",
   "type": "gcloud",
   "uri": "gcr.io/deeplearning-platform-release/base-cpu:m90"
  },
  "interpreter": {
   "hash": "a46639dc4ce59764707f7d29e7ddf4b543fd040f828fe9a3cb5baeb9324df219"
  },
  "kernelspec": {
   "display_name": "Python [conda env:python38]",
   "language": "python",
   "name": "conda-env-python38-py"
  },
  "language_info": {
   "codemirror_mode": {
    "name": "ipython",
    "version": 3
   },
   "file_extension": ".py",
   "mimetype": "text/x-python",
   "name": "python",
   "nbconvert_exporter": "python",
   "pygments_lexer": "ipython3",
   "version": "3.8.12"
  }
 },
 "nbformat": 4,
 "nbformat_minor": 4
}
