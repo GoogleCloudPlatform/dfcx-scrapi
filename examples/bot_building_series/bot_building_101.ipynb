{
 "cells": [
  {
   "cell_type": "code",
   "execution_count": null,
   "metadata": {},
   "outputs": [],
   "source": [
    "# Copyright 2023 Google LLC\n",
    "#\n",
    "# Licensed under the Apache License, Version 2.0 (the \"License\");\n",
    "# you may not use this file except in compliance with the License.\n",
    "# You may obtain a copy of the License at\n",
    "#\n",
    "#     https://www.apache.org/licenses/LICENSE-2.0\n",
    "#\n",
    "# Unless required by applicable law or agreed to in writing, software\n",
    "# distributed under the License is distributed on an \"AS IS\" BASIS,\n",
    "# WITHOUT WARRANTIES OR CONDITIONS OF ANY KIND, either express or implied.\n",
    "# See the License for the specific language governing permissions and\n",
    "# limitations under the License."
   ]
  },
  {
   "cell_type": "markdown",
   "metadata": {},
   "source": [
    "# Introduction\n",
    "In this notebook, we will show you how to build a Dialogflow CX Agent from scratch using plain text inputs and a simple CSV file.\n",
    "\n",
    "## Prerequisites\n",
    "- Ensure you have a GCP Service Account key with the Dialogflow API Admin privileges assigned to it."
   ]
  },
  {
   "cell_type": "code",
   "execution_count": null,
   "metadata": {},
   "outputs": [],
   "source": [
    "#If you haven't already, make sure you install the `dfcx-scrapi` library\n",
    "\n",
    "!pip install dfcx-scrapi"
   ]
  },
  {
   "cell_type": "markdown",
   "metadata": {},
   "source": [
    "# Imports"
   ]
  },
  {
   "cell_type": "code",
   "execution_count": null,
   "metadata": {},
   "outputs": [],
   "source": [
    "import pandas as pd\n",
    "\n",
    "from dfcx_scrapi.core.agents import Agents\n",
    "from dfcx_scrapi.core.intents import Intents\n",
    "from dfcx_scrapi.core.flows import Flows\n",
    "from dfcx_scrapi.core.pages import Pages\n",
    "from dfcx_scrapi.tools.dataframe_functions import DataframeFunctions\n",
    "from dfcx_scrapi.tools.maker_util import MakerUtil\n",
    "\n",
    "creds_path = '<YOUR_CREDS_PATH_HERE>'"
   ]
  },
  {
   "cell_type": "markdown",
   "metadata": {},
   "source": [
    "# Method 1 - Creating an Agent from Simple Text Inputs"
   ]
  },
  {
   "cell_type": "markdown",
   "metadata": {},
   "source": [
    "## Create Your Agent\n",
    "Creating an agent requires a minimum of 2 pieces of information:\n",
    "- `project_id`, which is your GCP Project ID\n",
    "- `display_name`, (i.e. 'My Cool Agent!')\n",
    "- `gcp_region`, (Optional) This defaults to `global` region, but you can provide any GCP region that is currently available for Dialogflow CX."
   ]
  },
  {
   "cell_type": "code",
   "execution_count": null,
   "metadata": {},
   "outputs": [],
   "source": [
    "# First we will instansiate our Agent object\n",
    "a = Agents(creds_path=creds_path)\n",
    "\n",
    "# Next, we will set some variables for our agent creation args\n",
    "project_id = '<YOUR_GCP_PROJECT_ID>'\n",
    "display_name = 'My Cool Agent!'\n",
    "gcp_region = 'us-central1'\n",
    "\n",
    "# Then we will call the `create_agent` method and capture the result in a var call `my_agent`\n",
    "my_agent = a.create_agent(project_id, display_name, gcp_region)\n"
   ]
  },
  {
   "cell_type": "markdown",
   "metadata": {},
   "source": [
    "If you inspect your `my_agent` variable, you will see it is of types.agent.Agent\n",
    "and contains a structure similar to this below\n",
    "\n",
    "```\n",
    "name: \"projects/<your-gcp-project>/locations/us-central1/agents/08e7647e-8b6e-4f1e-abdb-1d0448127a05\"\n",
    "display_name: \"My Cool Agent!\"\n",
    "default_language_code: \"en\"\n",
    "time_zone: \"America/Chicago\"\n",
    "start_flow: \"projects/<your-gcp-project>/locations/us-central1/agents/08e7647e-8b6e-4f1e-abdb-1d0448127a05/flows/00000000-0000-0000-0000-000000000000\"\n",
    "```"
   ]
  },
  {
   "cell_type": "markdown",
   "metadata": {},
   "source": [
    "## Create Your First Intent\n",
    "For this demo agent, we'll build a basic intent from list of Training Phrases (TPs)\n",
    "\n",
    "To simplify the Intent creation, we'll utilize the `DataframeFunctions` class from the `tools` portion of the SCRAPI library.   \n",
    "This will allow us to build our intent into a simple Pandas DataFrame, and then push this DataFrame directly into our bot that we just created.\n",
    "\n",
    "A common method of building Intents and Training Phrases for Dialogflow CX agents is to use Google Sheets or CSVs to store the Intent/TP data.  \n",
    "For this demo, we've included a file located at `data/sample_intent_tp.csv` that we'll pull into our dataframe to use."
   ]
  },
  {
   "cell_type": "code",
   "execution_count": null,
   "metadata": {},
   "outputs": [],
   "source": [
    "# First, we will instantiate our DataframeFunctions (dffx) object\n",
    "dffx = DataframeFunctions(creds_path=creds_path)\n",
    "\n",
    "# Next, we will read in our sample CSV with Intent/TP data into a Pandas DataFrame\n",
    "df = pd.read_csv('../data/sample_intent_tp.csv')\n",
    "\n",
    "# Finally, we will use `dffx` to push our Intents to our Agent\n",
    "my_intents = dffx.bulk_create_intent_from_dataframe(my_agent.name, df, update_flag=True)"
   ]
  },
  {
   "cell_type": "markdown",
   "metadata": {},
   "source": [
    "## Create Your First Page\n",
    "Next, we'll use the `create_page` method to create a Page in our Default Start Flow and attach our newly created Intent to it.\n",
    "\n",
    "For Page object manipulation, you'll want to know your Flow ID metadata.   \n",
    "We'll use the `Flows` class and `get_flows_map` method to provide this info."
   ]
  },
  {
   "cell_type": "code",
   "execution_count": null,
   "metadata": {},
   "outputs": [],
   "source": [
    "# First, we will instantiate our Flows and Pages objects.\n",
    "f = Flows(creds_path=creds_path)\n",
    "p = Pages(creds_path=creds_path)\n",
    "\n",
    "# The `get_flows_map` method provides an easy to use map of your Flows, their IDs, and their human readable Display Names\n",
    "# Using the `reverse=True` arg allows you to call the dictionary by your flow Display Names which can be easier for exploratory building.\n",
    "flows_map = f.get_flows_map(my_agent.name, reverse=True)\n",
    "\n",
    "# Now that we know our Flow ID, we'll create a Page using the Flow ID as the Page parent\n",
    "my_page = p.create_page(flows_map['Default Start Flow'], display_name='My First Page!')\n"
   ]
  },
  {
   "cell_type": "markdown",
   "metadata": {},
   "source": [
    "If you inspect the `my_page` object, you will see it is of types.page.Page and contains a structure similar to this below\n",
    "\n",
    "```\n",
    "name: \"projects/<your-gcp-project>/locations/us-central1/agents/fc5e72f6-c194-43ec-871f-6a636010f4ae/flows/00000000-0000-0000-0000-000000000000/pages/63037247-d3f2-42e5-8c43-651bcbcf2c0e\"\n",
    "display_name: \"My First Page!\"\n",
    "```"
   ]
  },
  {
   "cell_type": "markdown",
   "metadata": {},
   "source": [
    "## Add Intent Route to Default Start Flow and Link Page\n",
    "In our last step, we will link all of our previous steps together by:\n",
    "- Adding our `head_intent.order_pizza` intent to our `Start` Page of our `Default Start Flow` as a `Transition Route`\n",
    "- Creating a `Target Page` pointing to our `My First Page!` within our `Transition Route` \n",
    "\n",
    "The `Start` page of every `Flow` is a special type of page and is actually a part of the `Flow` resource object itself.  \n",
    "So in order to add the `Transition Route`, we will be manipulating the `Default Start Flow` flow object directly.\n",
    "\n",
    "To help us, we'll also use the `maker_util` from the `tools` directory to build our `Transition Route` object.  \n",
    "We'll need 2 main pieces of information for our `Transition Route`:\n",
    "- Our Intent ID\n",
    "- Our Page ID\n",
    "\n",
    "Dialogflow Resource IDs can always be found in the `x.name` namespace.  \n",
    "For our intent, it would be `my_intent.name`  \n",
    "For our page, it would be `my_page.name`   "
   ]
  },
  {
   "cell_type": "code",
   "execution_count": null,
   "metadata": {},
   "outputs": [],
   "source": [
    "# We'll first get the Default Start Flow (dsf for short)\n",
    "dsf = f.get_flow(flows_map['Default Start Flow'])\n",
    "\n",
    "# We'll also fetch our Intent directly from the bot by Display Name to make this next part easier\n",
    "i = Intents(creds_path=creds_path)\n",
    "intent_list = i.list_intents(my_agent.name)\n",
    "my_intent = [x for x in intent_list if x.display_name == 'head_intent.order_pizza'][0]\n",
    "\n",
    "# Next, we'll use the MakerUtil to build our Transition Route (tr) object\n",
    "mu = MakerUtil()\n",
    "my_tr = mu.make_transition_route(intent=my_intent.name, target_page=my_page.name)\n",
    "\n",
    "# Now, we'll add the newly created Transition Route object to our DSF object\n",
    "dsf.transition_routes.append(my_tr)\n",
    "\n",
    "# Finally, we'll update the DSF object in our agent\n",
    "my_updated_flow = f.update_flow(flows_map['Default Start Flow'], obj=dsf, transition_routes=dsf.transition_routes)"
   ]
  },
  {
   "cell_type": "markdown",
   "metadata": {},
   "source": [
    "# Bot Building 101 End\n",
    "## And there you have it!   \n",
    "We've created a simple Dialogflow CX agent using only Python in a Jupyter notebook.  \n",
    "You can see how this could be easily scaled up using .py files, git repos, and other scripts to speed up the bot building process.\n",
    "\n",
    "If you're ready to dive into a more advanced style of bot building, check out the Bot Building 201 notebook which shows you how to build a Dialogflow CX agent using a YAML file."
   ]
  },
  {
   "cell_type": "markdown",
   "metadata": {},
   "source": []
  }
 ],
 "metadata": {
  "interpreter": {
   "hash": "a46639dc4ce59764707f7d29e7ddf4b543fd040f828fe9a3cb5baeb9324df219"
  },
  "kernelspec": {
   "display_name": "Python 3.8.10 64-bit ('scrapi': conda)",
   "name": "python3"
  },
  "language_info": {
   "codemirror_mode": {
    "name": "ipython",
    "version": 3
   },
   "file_extension": ".py",
   "mimetype": "text/x-python",
   "name": "python",
   "nbconvert_exporter": "python",
   "pygments_lexer": "ipython3",
   "version": "3.8.10"
  },
  "orig_nbformat": 4
 },
 "nbformat": 4,
 "nbformat_minor": 2
}
