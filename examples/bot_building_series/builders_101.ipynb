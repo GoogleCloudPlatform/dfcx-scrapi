{
 "cells": [
  {
   "cell_type": "code",
   "execution_count": 1,
   "id": "f0502974",
   "metadata": {},
   "outputs": [],
   "source": [
    "# Copyright 2023 Google LLC\n",
    "#\n",
    "# Licensed under the Apache License, Version 2.0 (the \"License\");\n",
    "# you may not use this file except in compliance with the License.\n",
    "# You may obtain a copy of the License at\n",
    "#\n",
    "#     https://www.apache.org/licenses/LICENSE-2.0\n",
    "#\n",
    "# Unless required by applicable law or agreed to in writing, software\n",
    "# distributed under the License is distributed on an \"AS IS\" BASIS,\n",
    "# WITHOUT WARRANTIES OR CONDITIONS OF ANY KIND, either express or implied.\n",
    "# See the License for the specific language governing permissions and\n",
    "# limitations under the License."
   ]
  },
  {
   "cell_type": "markdown",
   "id": "9564d9d3",
   "metadata": {},
   "source": [
    "# Builders 101 - Using Builder Classes to Build Bots Programmatically\n",
    "In this notebook, we will show you how to utilize the new Builder classes to build out different sections of Dialogflow CX Agents.\n",
    "\n",
    "## Prerequisites\n",
    "- Ensure you have a GCP Service Account key with the following privileges assigned to it, based on your needs:\n",
    "  - Dialogflow API Reader, use this permission level if you are just exploring the Dialogflow CX resources and developing offline\n",
    "  - Dialogflow API Admin, use this permissions level if you are planning to Read/Write to your Dialogflow CX Agent and/or resources"
   ]
  },
  {
   "cell_type": "code",
   "execution_count": null,
   "id": "9ba925c8",
   "metadata": {},
   "outputs": [],
   "source": [
    "# If you haven't already, make sure you install the `dfcx-scrapi` library\n",
    "\n",
    "!pip install dfcx-scrapi --quiet"
   ]
  },
  {
   "cell_type": "markdown",
   "id": "0a4461fc",
   "metadata": {},
   "source": [
    "# Imports"
   ]
  },
  {
   "cell_type": "code",
   "execution_count": 7,
   "id": "3c930991",
   "metadata": {},
   "outputs": [],
   "source": [
    "from dfcx_scrapi.core.agents import Agents\n",
    "from dfcx_scrapi.core.intents import Intents\n",
    "\n",
    "from dfcx_scrapi.builders.agents import AgentBuilder\n",
    "from dfcx_scrapi.builders.intents import IntentBuilder\n",
    "from dfcx_scrapi.builders.entity_types import EntityTypeBuilder"
   ]
  },
  {
   "cell_type": "markdown",
   "id": "59e575ff",
   "metadata": {},
   "source": [
    "# Agent Builder Class\n",
    "In this section, we'll explore the Agent Builder Class.  \n",
    "We'll build a new Agent Proto from scratch, and then use the SCRAPI Core Agents class to send the API call to actually create it!"
   ]
  },
  {
   "cell_type": "markdown",
   "id": "6fbcadba",
   "metadata": {},
   "source": [
    "### Build an Agent Proto\n",
    "All Dialogflow CX resources are protobuf objects.  \n",
    "Here we will create a new Agent Proto object.\n",
    "\n",
    "The builder classes allow us to create these proto objects with very simple text inputs.  \n",
    "The result of each method is a new or modified proto object."
   ]
  },
  {
   "cell_type": "code",
   "execution_count": 3,
   "id": "14307d6d",
   "metadata": {},
   "outputs": [
    {
     "data": {
      "text/plain": [
       "display_name: \"Patrick Awesome Agent\"\n",
       "default_language_code: \"en\"\n",
       "time_zone: \"America/Chicago\"\n",
       "description: \"I built this agent from the Builder file!\""
      ]
     },
     "execution_count": 3,
     "metadata": {},
     "output_type": "execute_result"
    }
   ],
   "source": [
    "# Instantiate Class\n",
    "ab = AgentBuilder()\n",
    "\n",
    "# Create New Agent\n",
    "ab.create_new_proto_obj(\n",
    "    display_name = 'Patrick Awesome Agent',\n",
    "    time_zone='America/Chicago',\n",
    "    default_language_code='en',\n",
    "    description='I built this agent from the Builder file!',\n",
    "    overwrite=True\n",
    ")"
   ]
  },
  {
   "cell_type": "markdown",
   "id": "9f903fdd",
   "metadata": {},
   "source": [
    "### Show Agent\n",
    "In the above output, we get the Agent Proto object.  \n",
    "Below, we can use the `show_agent_info` method to pretty print other details of our Agent proto, including default settings."
   ]
  },
  {
   "cell_type": "code",
   "execution_count": 4,
   "id": "5bb70f41",
   "metadata": {},
   "outputs": [
    {
     "name": "stdout",
     "output_type": "stream",
     "text": [
      "display_name: Patrick Awesome Agent\n",
      "time_zone: America/Chicago\n",
      "default_language_code: en\n",
      "description: I built this agent from the Builder file!\n",
      "avatar_uri: \n",
      "enable_speech_adaptation: False\n",
      "enable_spell_correction: False\n",
      "supported_language_codes: []\n",
      "enable_stackdriver_logging: False\n",
      "enable_interaction_logging: False\n",
      "security_settings: \n"
     ]
    }
   ],
   "source": [
    "ab.show_agent_info()"
   ]
  },
  {
   "cell_type": "markdown",
   "id": "b04fdebe",
   "metadata": {},
   "source": [
    "### Security, Logging, Language and Speech Settings\n",
    "We can continue to modify our Agent Proto by adding various settings or configurations.\n",
    "\n",
    "We can see in the proto output below that the default settings have now been modified."
   ]
  },
  {
   "cell_type": "code",
   "execution_count": 5,
   "id": "f845a729",
   "metadata": {},
   "outputs": [
    {
     "data": {
      "text/plain": [
       "display_name: \"Patrick Awesome Agent\"\n",
       "default_language_code: \"en\"\n",
       "time_zone: \"America/Chicago\"\n",
       "description: \"I built this agent from the Builder file!\"\n",
       "speech_to_text_settings {\n",
       "  enable_speech_adaptation: true\n",
       "}\n",
       "enable_spell_correction: true\n",
       "advanced_settings {\n",
       "  logging_settings {\n",
       "    enable_stackdriver_logging: true\n",
       "    enable_interaction_logging: true\n",
       "  }\n",
       "}"
      ]
     },
     "execution_count": 5,
     "metadata": {},
     "output_type": "execute_result"
    }
   ],
   "source": [
    "# Language and Speech Settings\n",
    "ab.language_and_speech_settings(\n",
    "    enable_speech_adaptation=True,\n",
    "    enable_spell_correction=True\n",
    ")\n",
    "\n",
    "# Security and Logging Settings\n",
    "ab.security_and_logging_settings(\n",
    "    enable_stackdriver_logging=True,\n",
    "    enable_interaction_logging=True\n",
    ")"
   ]
  },
  {
   "cell_type": "markdown",
   "id": "716f993a",
   "metadata": {},
   "source": [
    "### Create Agent\n",
    "Now it's time to take our Agent Proto and actually create it in Dialogflow CX.\n",
    "\n",
    "The below proto response shows us that the agent was successfully created!"
   ]
  },
  {
   "cell_type": "code",
   "execution_count": 6,
   "id": "93807f48",
   "metadata": {},
   "outputs": [
    {
     "data": {
      "text/plain": [
       "name: \"projects/pmarlow-ccai-dev/locations/global/agents/3f1c2b1e-83d5-4454-99b2-70fd42d7987d\"\n",
       "display_name: \"Patrick Awesome Agent\"\n",
       "default_language_code: \"en\"\n",
       "time_zone: \"America/Chicago\"\n",
       "description: \"I built this agent from the Builder file!\"\n",
       "speech_to_text_settings {\n",
       "  enable_speech_adaptation: true\n",
       "}\n",
       "start_flow: \"projects/pmarlow-ccai-dev/locations/global/agents/3f1c2b1e-83d5-4454-99b2-70fd42d7987d/flows/00000000-0000-0000-0000-000000000000\"\n",
       "enable_stackdriver_logging: true\n",
       "enable_spell_correction: true\n",
       "advanced_settings {\n",
       "  logging_settings {\n",
       "    enable_stackdriver_logging: true\n",
       "    enable_interaction_logging: true\n",
       "  }\n",
       "}"
      ]
     },
     "execution_count": 6,
     "metadata": {},
     "output_type": "execute_result"
    }
   ],
   "source": [
    "# Instantiate Core Agent Class\n",
    "a = Agents()\n",
    "\n",
    "# Push Agent to DFCX\n",
    "a.create_agent(\n",
    "    '<YOUR_GCP_PROJECT_HERE>',\n",
    "    gcp_region='global',\n",
    "    obj=ab.proto_obj)"
   ]
  },
  {
   "cell_type": "markdown",
   "id": "d8893e1e",
   "metadata": {},
   "source": [
    "# Intent Builder Class\n",
    "Similar to the Agent Builde Class above, you can use the Intents Builder class to create new Intent Protos\n",
    "\n",
    "Try some of the methods below.  \n",
    "Uncomment as needed."
   ]
  },
  {
   "cell_type": "markdown",
   "id": "e28123e8",
   "metadata": {},
   "source": [
    "### Intent Builder Methods"
   ]
  },
  {
   "cell_type": "code",
   "execution_count": null,
   "id": "75b60c12",
   "metadata": {},
   "outputs": [],
   "source": [
    "# Instantiate Class\n",
    "ib = IntentBuilder()\n",
    "\n",
    "# Create Intent\n",
    "display_name = 'Patrick Cool Intent'\n",
    "description = 'This is my test intent from SCRAPI part 2'\n",
    "\n",
    "ib.create_new_proto_obj(display_name=display_name, description=description, overwrite=True)\n",
    "\n",
    "# Show Intent\n",
    "ib.show_intent()\n",
    "\n",
    "# Show Stats\n",
    "ib.show_stats()\n",
    "\n",
    "# Parameter Checking\n",
    "# ib.parameter_checking()\n",
    "\n",
    "# Add Training Phrase - Default Spacing\n",
    "# ib.add_training_phrase(  \n",
    "#     phrase=['my', 'name', 'is', 'Caro'],\n",
    "#     annotations=['', '', '', 'people'])\n",
    "\n",
    "# Add Training Phrase - Overwrite Spacing\n",
    "# ib.add_training_phrase(  \n",
    "#     phrase=['my', 'name', 'is', 'Mud'],\n",
    "#     annotations=['', '', '', 'people'],\n",
    "#     include_spaces=False)\n",
    "\n",
    "# Add Parameter\n",
    "# ib.add_parameter(\n",
    "#     parameter_id='people',\n",
    "#     entity_type='projects/-/locations/-/agents/-/entityTypes/sys.person',\n",
    "#     redact=True\n",
    "# )\n",
    "\n",
    "# Add Label\n",
    "# ib.add_label({'lob':'accounting'})\n",
    "# ib.add_label({'my_key2':'my-value-dashed'})"
   ]
  },
  {
   "cell_type": "markdown",
   "id": "857be1c8",
   "metadata": {},
   "source": [
    "### Create Intent\n",
    "Now you're ready to push your new Intent Proto object to your Dialogflow CX Agent!"
   ]
  },
  {
   "cell_type": "code",
   "execution_count": null,
   "id": "a70fa5b3",
   "metadata": {},
   "outputs": [],
   "source": [
    "# Instantiate Core Intents Class\n",
    "i = Intents()\n",
    "\n",
    "# Create Intent in DFCX\n",
    "i.create_intent(\n",
    "    '<YOUR_AGENT_ID_HERE>',\n",
    "    obj=ib.proto_obj)"
   ]
  },
  {
   "cell_type": "markdown",
   "id": "092fa9d8",
   "metadata": {},
   "source": [
    "# Entity Types Builder Class\n",
    "Same as Agent and Intents, but with Entity Types!\n",
    "\n",
    "Try some of the methods below."
   ]
  },
  {
   "cell_type": "markdown",
   "id": "8cb31232",
   "metadata": {},
   "source": [
    "### Entity Type Methods"
   ]
  },
  {
   "cell_type": "code",
   "execution_count": 8,
   "id": "8e3fbaad",
   "metadata": {},
   "outputs": [
    {
     "name": "stdout",
     "output_type": "stream",
     "text": [
      "display_name: my_builder_entity_type\n",
      "kind: KIND_MAP\n",
      "auto_expansion_mode: 0\n",
      "enable_fuzzy_extraction: True\n",
      "redact: True\n",
      "excluded phrases:\n",
      "\t\n",
      "entities:\n",
      "  vegetable:\n",
      "\tcelery, lettuce, tomato\n",
      "  fruit:\n",
      "\torange, apple\n"
     ]
    }
   ],
   "source": [
    "# Instantiate Class\n",
    "eb = EntityTypeBuilder()\n",
    "\n",
    "# Create New Entity Type\n",
    "eb.create_new_proto_obj(\n",
    "    display_name='my_builder_entity_type',\n",
    "    kind=1,\n",
    "    enable_fuzzy_extraction=True,\n",
    "    redact=True,\n",
    "    overwrite=True\n",
    ")\n",
    "\n",
    "# Add Entity\n",
    "eb.add_entity('vegetable', ['celery','lettuce','tomato'])\n",
    "eb.add_entity('fruit', ['apple','orange','grape'])\n",
    "\n",
    "# Remove Entity Type\n",
    "eb.remove_entity('fruit', ['grape'])\n",
    "\n",
    "# Show Entity Type\n",
    "eb.show_entity_type()"
   ]
  },
  {
   "cell_type": "markdown",
   "id": "ebc453fa",
   "metadata": {},
   "source": [
    "### Entity Type Methods Continued"
   ]
  },
  {
   "cell_type": "code",
   "execution_count": 9,
   "id": "a9fd02d0",
   "metadata": {},
   "outputs": [
    {
     "name": "stdout",
     "output_type": "stream",
     "text": [
      "display_name: my_builder_entity_type\n",
      "kind: KIND_MAP\n",
      "auto_expansion_mode: 0\n",
      "enable_fuzzy_extraction: True\n",
      "redact: True\n",
      "excluded phrases:\n",
      "\tcauliflower\n",
      "\tturkey\n",
      "\tpotato\n",
      "entities:\n",
      "  vegetable:\n",
      "\tcelery, lettuce, tomato\n",
      "  fruit:\n",
      "\torange, apple\n",
      "display_name: my_builder_entity_type\n",
      "kind: KIND_MAP\n",
      "auto_expansion_mode: 0\n",
      "enable_fuzzy_extraction: True\n",
      "redact: True\n",
      "excluded phrases:\n",
      "\tcauliflower\n",
      "entities:\n",
      "  vegetable:\n",
      "\tcelery, lettuce, tomato\n",
      "  fruit:\n",
      "\torange, apple\n"
     ]
    }
   ],
   "source": [
    "# Add Excluded Phrase\n",
    "eb.add_excluded_phrase(['cauliflower', 'turkey'])\n",
    "eb.add_excluded_phrase('potato')\n",
    "\n",
    "eb.show_entity_type()\n",
    "\n",
    "# Remove Excluded Phrase\n",
    "eb.remove_excluded_phrase('potato')\n",
    "eb.remove_excluded_phrase(['turkey'])\n",
    "\n",
    "# Show Entity Type\n",
    "eb.show_entity_type()"
   ]
  },
  {
   "cell_type": "markdown",
   "metadata": {},
   "source": [
    "# Final Thoughts and Wrap-Up\n",
    "In this notebook, we've demonstrated how to use the new SCRAPI Builder classes to build offline Dialogflow CX Agent resources.  \n",
    "These classes are helpful when building and modifying hundreds or even thousands of resources at scale, without the need to call the Dialogflow CX API.  \n",
    "\n",
    "Build and experiment offline, then push to the Dialogflow CX API once!\n",
    "\n",
    "Happy Coding!"
   ]
  },
  {
   "cell_type": "markdown",
   "id": "f93983c0",
   "metadata": {},
   "source": []
  }
 ],
 "metadata": {
  "environment": {
   "name": "common-cpu.m73",
   "type": "gcloud",
   "uri": "gcr.io/deeplearning-platform-release/base-cpu:m73"
  },
  "kernelspec": {
   "display_name": "Python 3.8.12 ('scrapi-local')",
   "language": "python",
   "name": "python3"
  },
  "language_info": {
   "codemirror_mode": {
    "name": "ipython",
    "version": 3
   },
   "file_extension": ".py",
   "mimetype": "text/x-python",
   "name": "python",
   "nbconvert_exporter": "python",
   "pygments_lexer": "ipython3",
   "version": "3.8.12"
  },
  "vscode": {
   "interpreter": {
    "hash": "7413f51bec3c978f0622000f59fce9c6157925f7fef8079c4a26e2f8ecdaa214"
   }
  }
 },
 "nbformat": 4,
 "nbformat_minor": 5
}
